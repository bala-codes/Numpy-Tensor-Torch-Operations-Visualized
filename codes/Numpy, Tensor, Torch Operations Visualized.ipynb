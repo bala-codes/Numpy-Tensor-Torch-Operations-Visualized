{
  "nbformat": 4,
  "nbformat_minor": 0,
  "metadata": {
    "colab": {
      "name": "Basic_Ops_on_Fundamental_unit.ipynb",
      "provenance": [],
      "collapsed_sections": [],
      "authorship_tag": "ABX9TyO+AIv+7zvuarIbaM9/Qnbt",
      "include_colab_link": true
    },
    "kernelspec": {
      "name": "python3",
      "display_name": "Python 3"
    }
  },
  "cells": [
    {
      "cell_type": "markdown",
      "metadata": {
        "id": "view-in-github",
        "colab_type": "text"
      },
      "source": [
        "<a href=\"https://colab.research.google.com/github/bala-codes/Numpy-Tensor-Torch-Operations-Visualized/blob/master/codes/Numpy%2C%20Tensor%2C%20Torch%20Operations%20Visualized.ipynb\" target=\"_parent\"><img src=\"https://colab.research.google.com/assets/colab-badge.svg\" alt=\"Open In Colab\"/></a>"
      ]
    },
    {
      "cell_type": "code",
      "metadata": {
        "id": "TQLvoE7TOfzI",
        "colab_type": "code",
        "colab": {
          "base_uri": "https://localhost:8080/",
          "height": 68
        },
        "outputId": "a31a3d12-5d1b-4372-8c7d-1abcbaa4d341"
      },
      "source": [
        "import tensorflow as tf\n",
        "import numpy as np\n",
        "import torch\n",
        "\n",
        "print(tf.__version__)\n",
        "print(np.__version__)\n",
        "print(torch.__version__)"
      ],
      "execution_count": 340,
      "outputs": [
        {
          "output_type": "stream",
          "text": [
            "2.3.0\n",
            "1.18.5\n",
            "1.6.0+cu101\n"
          ],
          "name": "stdout"
        }
      ]
    },
    {
      "cell_type": "markdown",
      "metadata": {
        "id": "XWCpMQtVmfur",
        "colab_type": "text"
      },
      "source": [
        "<img src=\"https://cdn-images-1.medium.com/max/800/1*ommNjebqhFUWnWvcogfaAw.png\">"
      ]
    },
    {
      "cell_type": "markdown",
      "metadata": {
        "id": "uIrbh_1XPnFM",
        "colab_type": "text"
      },
      "source": [
        "# Array Initialization ~ 1D, 2D, 3D"
      ]
    },
    {
      "cell_type": "markdown",
      "metadata": {
        "id": "cJwFV5-Fmkce",
        "colab_type": "text"
      },
      "source": [
        "<img src=\"https://cdn-images-1.medium.com/max/800/1*Ei4EFkk0qUh6RYq5cKQO4g.png\">"
      ]
    },
    {
      "cell_type": "markdown",
      "metadata": {
        "id": "aRxIxrK7X_cA",
        "colab_type": "text"
      },
      "source": [
        "## Scalar and 1-D Vector"
      ]
    },
    {
      "cell_type": "code",
      "metadata": {
        "id": "4Xym355RWK3p",
        "colab_type": "code",
        "colab": {
          "base_uri": "https://localhost:8080/",
          "height": 340
        },
        "outputId": "a6746c23-f71d-48f5-9fa0-e9ed03b8a6e5"
      },
      "source": [
        "# Numpy \n",
        "a = np.array(10)\n",
        "print(a)\n",
        "print(a.shape, a.dtype) # shape of the array and type of the elements\n",
        "print()\n",
        "a = np.array([10])\n",
        "print(a)\n",
        "print(a.shape, a.dtype) # shape of the array and type of the elements\n",
        "print()\n",
        "a = np.array([10], dtype=np.float32)\n",
        "print(a)\n",
        "print(a.shape, a.dtype) # shape of the array and type of the elements\n",
        "print()\n",
        "\n",
        "# TensorFlow\n",
        "b = tf.constant(10) # As Scalar\n",
        "print(b)\n",
        "print()\n",
        "b = tf.constant(10, shape=(1,1)) # As 1-D Vector\n",
        "print(b)\n",
        "print()\n",
        "b = tf.constant(10, shape=(1,1), dtype=tf.float32) # As 1-D Vector with specified Data-type\n",
        "print(b)\n",
        "\n",
        "# Torch\n",
        "c = torch.tensor(10, ) # As Scalar\n",
        "print(c)\n",
        "print()\n",
        "c = torch.tensor([10]) # As 1-D Vector\n",
        "print(c, c.shape, c.dtype)\n",
        "print()\n",
        "c = torch.tensor([10], dtype=torch.float32) # As 1-D Vector with specified Data-type\n",
        "print(c)"
      ],
      "execution_count": 314,
      "outputs": [
        {
          "output_type": "stream",
          "text": [
            "10\n",
            "() int64\n",
            "\n",
            "[10]\n",
            "(1,) int64\n",
            "\n",
            "[10.]\n",
            "(1,) float32\n",
            "\n",
            "tf.Tensor(10, shape=(), dtype=int32)\n",
            "\n",
            "tf.Tensor([[10]], shape=(1, 1), dtype=int32)\n",
            "\n",
            "tf.Tensor([[10.]], shape=(1, 1), dtype=float32)\n",
            "tensor(10)\n",
            "\n",
            "tensor([10]) torch.Size([1]) torch.int64\n",
            "\n",
            "tensor([10.])\n"
          ],
          "name": "stdout"
        }
      ]
    },
    {
      "cell_type": "markdown",
      "metadata": {
        "id": "AkcuIo_UYDAp",
        "colab_type": "text"
      },
      "source": [
        "## 2-D Vector"
      ]
    },
    {
      "cell_type": "markdown",
      "metadata": {
        "id": "4KttHcggmwPN",
        "colab_type": "text"
      },
      "source": [
        "<img src=\"https://cdn-images-1.medium.com/max/800/1*SqK5t1Ud5ksMpmZQjT98AQ.png\">"
      ]
    },
    {
      "cell_type": "code",
      "metadata": {
        "id": "7PruzipwYGAr",
        "colab_type": "code",
        "colab": {
          "base_uri": "https://localhost:8080/",
          "height": 221
        },
        "outputId": "6a984c78-0406-45da-8969-d10a9a0386ca"
      },
      "source": [
        "# Numpy\n",
        "a = np.array([[1,2,3], [4,5,6]])\n",
        "print(a)\n",
        "print(a.shape, a.dtype)\n",
        "print()\n",
        "\n",
        "# Tensorflow\n",
        "b = tf.constant([[1,2,3], [4,5,6]])\n",
        "print(b)\n",
        "print(b.shape)\n",
        "print()\n",
        "\n",
        "# Torch\n",
        "c = torch.tensor([[1,2,3], [4,5,6]]) \n",
        "print(c)\n",
        "print(c.shape)"
      ],
      "execution_count": 315,
      "outputs": [
        {
          "output_type": "stream",
          "text": [
            "[[1 2 3]\n",
            " [4 5 6]]\n",
            "(2, 3) int64\n",
            "\n",
            "tf.Tensor(\n",
            "[[1 2 3]\n",
            " [4 5 6]], shape=(2, 3), dtype=int32)\n",
            "(2, 3)\n",
            "\n",
            "tensor([[1, 2, 3],\n",
            "        [4, 5, 6]])\n",
            "torch.Size([2, 3])\n"
          ],
          "name": "stdout"
        }
      ]
    },
    {
      "cell_type": "markdown",
      "metadata": {
        "id": "WpG6TVaaqgNJ",
        "colab_type": "text"
      },
      "source": [
        "# Generating data"
      ]
    },
    {
      "cell_type": "markdown",
      "metadata": {
        "id": "o2j_9dfKmz56",
        "colab_type": "text"
      },
      "source": [
        "<img src=\"https://cdn-images-1.medium.com/max/800/1*c2Wbf0ogAMz95AwFnLGYdw.png\">"
      ]
    },
    {
      "cell_type": "markdown",
      "metadata": {
        "id": "wLcCFiRZm5Ah",
        "colab_type": "text"
      },
      "source": [
        "<img src=\"https://cdn-images-1.medium.com/max/800/1*7KjFTkEGGuBIVkB43h_fOg.png\">"
      ]
    },
    {
      "cell_type": "code",
      "metadata": {
        "id": "keDB9veVYUaM",
        "colab_type": "code",
        "colab": {
          "base_uri": "https://localhost:8080/",
          "height": 884
        },
        "outputId": "ca4b45d5-b694-4b0d-b9cd-face2b0f7939"
      },
      "source": [
        "# Numpy\n",
        "a = np.zeros((3,3))\n",
        "print(a, a.shape, a.dtype)\n",
        "print()\n",
        "a = np.ones((3,3))\n",
        "print(a, a.shape, a.dtype)\n",
        "print()\n",
        "a = np.eye(3)\n",
        "print(a, a.shape, a.dtype)\n",
        "print()\n",
        "a = np.full((3,3),10.0)\n",
        "print(a, a.shape, a.dtype)\n",
        "print()\n",
        "\n",
        "# Tensorflow\n",
        "b = tf.zeros((3,3))\n",
        "print(b)\n",
        "print()\n",
        "b = tf.ones((3,3))\n",
        "print(b)\n",
        "print()\n",
        "b = tf.eye(3)\n",
        "print(b)\n",
        "print()\n",
        "b = tf.fill([3,3], 10)\n",
        "print(b)\n",
        "print()\n",
        "\n",
        "# Torch\n",
        "c = torch.zeros((3,3))\n",
        "print(c)\n",
        "print()\n",
        "c = torch.ones((3,3))\n",
        "print(c)\n",
        "print()\n",
        "c = torch.eye(3)\n",
        "print(c)\n",
        "print()\n",
        "c = c.new_full([3,3], 10)\n",
        "print(c)"
      ],
      "execution_count": 317,
      "outputs": [
        {
          "output_type": "stream",
          "text": [
            "[[0. 0. 0.]\n",
            " [0. 0. 0.]\n",
            " [0. 0. 0.]] (3, 3) float64\n",
            "\n",
            "[[1. 1. 1.]\n",
            " [1. 1. 1.]\n",
            " [1. 1. 1.]] (3, 3) float64\n",
            "\n",
            "[[1. 0. 0.]\n",
            " [0. 1. 0.]\n",
            " [0. 0. 1.]] (3, 3) float64\n",
            "\n",
            "[[10. 10. 10.]\n",
            " [10. 10. 10.]\n",
            " [10. 10. 10.]] (3, 3) float64\n",
            "\n",
            "tf.Tensor(\n",
            "[[0. 0. 0.]\n",
            " [0. 0. 0.]\n",
            " [0. 0. 0.]], shape=(3, 3), dtype=float32)\n",
            "\n",
            "tf.Tensor(\n",
            "[[1. 1. 1.]\n",
            " [1. 1. 1.]\n",
            " [1. 1. 1.]], shape=(3, 3), dtype=float32)\n",
            "\n",
            "tf.Tensor(\n",
            "[[1. 0. 0.]\n",
            " [0. 1. 0.]\n",
            " [0. 0. 1.]], shape=(3, 3), dtype=float32)\n",
            "\n",
            "tf.Tensor(\n",
            "[[10 10 10]\n",
            " [10 10 10]\n",
            " [10 10 10]], shape=(3, 3), dtype=int32)\n",
            "\n",
            "tensor([[0., 0., 0.],\n",
            "        [0., 0., 0.],\n",
            "        [0., 0., 0.]])\n",
            "\n",
            "tensor([[1., 1., 1.],\n",
            "        [1., 1., 1.],\n",
            "        [1., 1., 1.]])\n",
            "\n",
            "tensor([[1., 0., 0.],\n",
            "        [0., 1., 0.],\n",
            "        [0., 0., 1.]])\n",
            "\n",
            "tensor([[10., 10., 10.],\n",
            "        [10., 10., 10.],\n",
            "        [10., 10., 10.]])\n"
          ],
          "name": "stdout"
        }
      ]
    },
    {
      "cell_type": "markdown",
      "metadata": {
        "id": "3P5NtRVHbysY",
        "colab_type": "text"
      },
      "source": [
        "# Draw random samples from normal distribution"
      ]
    },
    {
      "cell_type": "markdown",
      "metadata": {
        "id": "njY9qDXYnMxU",
        "colab_type": "text"
      },
      "source": [
        "<img src=\"https://cdn-images-1.medium.com/max/800/1*oroDC_aX76_G2V1zLV2DMQ.png\">\n",
        "<img src=\"https://cdn-images-1.medium.com/max/800/1*y3WMACw6HHqEAa-GG3cTdg.png\">"
      ]
    },
    {
      "cell_type": "code",
      "metadata": {
        "id": "khHCjc3rYuGY",
        "colab_type": "code",
        "colab": {
          "base_uri": "https://localhost:8080/",
          "height": 323
        },
        "outputId": "2ee419fd-55e1-4d48-ae30-00da489af3c9"
      },
      "source": [
        "# Numpy\n",
        "a = np.random.randn(3,3) \n",
        "print(a, a.shape, a.dtype)\n",
        "print()\n",
        "print(a.mean(), a.std())\n",
        "print()\n",
        "\n",
        "# Tensorflow\n",
        "b = tf.random.normal((3,3),mean=0, stddev=1)\n",
        "print(b)\n",
        "print()\n",
        "print(tf.reduce_mean(b), tf.math.reduce_std(b))\n",
        "print()\n",
        "\n",
        "# Torch\n",
        "c = torch.normal(mean=0, std=1, size=(3, 3))\n",
        "print(c)\n",
        "print()\n",
        "print(torch.mean(c), torch.std(c))"
      ],
      "execution_count": 318,
      "outputs": [
        {
          "output_type": "stream",
          "text": [
            "[[ 0.41406362 -1.51382214  0.55400531]\n",
            " [-0.95226975 -0.50038461  1.29014057]\n",
            " [ 0.90320426 -1.65923581 -1.03100388]] (3, 3) float64\n",
            "\n",
            "-0.27725582657643905 1.0291132313341855\n",
            "\n",
            "tf.Tensor(\n",
            "[[ 0.04017716 -2.2840774  -0.3615016 ]\n",
            " [-1.9259684   1.2054121   0.02211744]\n",
            " [ 0.96204025  0.07906733 -2.2352242 ]], shape=(3, 3), dtype=float32)\n",
            "\n",
            "tf.Tensor(-0.49977303, shape=(), dtype=float32) tf.Tensor(1.2557517, shape=(), dtype=float32)\n",
            "\n",
            "tensor([[-0.1682,  0.9610,  1.1005],\n",
            "        [-1.0462,  0.4431,  0.6005],\n",
            "        [-1.2714, -1.1894,  0.7221]])\n",
            "\n",
            "tensor(0.0169) tensor(0.9595)\n"
          ],
          "name": "stdout"
        }
      ]
    },
    {
      "cell_type": "markdown",
      "metadata": {
        "id": "Xgp0tf9ZcmVw",
        "colab_type": "text"
      },
      "source": [
        "# Draw samples from uniform distribution\n",
        "\n",
        "\n"
      ]
    },
    {
      "cell_type": "markdown",
      "metadata": {
        "id": "5W6pLE04nXQj",
        "colab_type": "text"
      },
      "source": [
        "<img src=\"https://cdn-images-1.medium.com/max/800/1*2aX6VCmTOk5_ojoVLTIVxw.png\">\n",
        "<img src=\"https://cdn-images-1.medium.com/max/800/1*vIcJ7bQLJw4vxQnuGkhBJA.png\">"
      ]
    },
    {
      "cell_type": "code",
      "metadata": {
        "id": "yXSWma7BaDFX",
        "colab_type": "code",
        "colab": {
          "base_uri": "https://localhost:8080/",
          "height": 323
        },
        "outputId": "c8b87f6a-5435-4eb2-94eb-123663e5bd6c"
      },
      "source": [
        "# Numpy\n",
        "a = np.random.uniform(low=0, high=1, size=(3,3)) \n",
        "print(a, a.shape, a.dtype)\n",
        "print()\n",
        "print(a.mean(), a.std())\n",
        "print()\n",
        "\n",
        "# Tensorflow\n",
        "b = tf.random.uniform((3,3), minval=0, maxval=1) # Values are always > 1\n",
        "print(b)\n",
        "print()\n",
        "print(tf.reduce_mean(b), tf.math.reduce_std(b))\n",
        "print()\n",
        "\n",
        "# Torch\n",
        "num_samples = 3\n",
        "Dim = 3\n",
        "c = torch.distributions.Uniform(0, +1).sample((num_samples, Dim))\n",
        "print(c)\n",
        "print()\n",
        "print(torch.mean(c), torch.std(c))"
      ],
      "execution_count": 319,
      "outputs": [
        {
          "output_type": "stream",
          "text": [
            "[[0.00738313 0.56734768 0.92893306]\n",
            " [0.36580515 0.91986967 0.70643149]\n",
            " [0.72854485 0.73961837 0.88049091]] (3, 3) float64\n",
            "\n",
            "0.6493804787345917 0.28317558657389263\n",
            "\n",
            "tf.Tensor(\n",
            "[[0.11186028 0.04624796 0.59104955]\n",
            " [0.5344571  0.1144793  0.8468257 ]\n",
            " [0.5247066  0.61488223 0.7592212 ]], shape=(3, 3), dtype=float32)\n",
            "\n",
            "tf.Tensor(0.4604144, shape=(), dtype=float32) tf.Tensor(0.2792521, shape=(), dtype=float32)\n",
            "\n",
            "tensor([[0.5842, 0.5787, 0.3526],\n",
            "        [0.2647, 0.6233, 0.4482],\n",
            "        [0.3495, 0.0562, 0.0495]])\n",
            "\n",
            "tensor(0.3674) tensor(0.2158)\n"
          ],
          "name": "stdout"
        }
      ]
    },
    {
      "cell_type": "markdown",
      "metadata": {
        "id": "aH3duh1bcy5V",
        "colab_type": "text"
      },
      "source": [
        "# Arrangements"
      ]
    },
    {
      "cell_type": "markdown",
      "metadata": {
        "id": "AccYgI_znfD_",
        "colab_type": "text"
      },
      "source": [
        "<img src=\"https://cdn-images-1.medium.com/max/800/1*UnnY3jEq8qM1dXbD8US8Uw.png\">"
      ]
    },
    {
      "cell_type": "code",
      "metadata": {
        "id": "yLKGBIyFaccw",
        "colab_type": "code",
        "colab": {
          "base_uri": "https://localhost:8080/",
          "height": 204
        },
        "outputId": "af2085da-7443-483a-ab11-1021238353db"
      },
      "source": [
        "# Numpy\n",
        "a = np.arange(0,9)\n",
        "print(a)\n",
        "print()\n",
        "a = np.arange(start=1, stop=20, step=2, dtype=np.float32)\n",
        "print(a, a.dtype)\n",
        "print()\n",
        "\n",
        "# Tensorflow\n",
        "b = tf.range(9)\n",
        "print(b)\n",
        "print()\n",
        "b = tf.range(start=1, limit=20, delta=2, dtype=tf.float64)\n",
        "print(b)\n",
        "print()\n",
        "\n",
        "# Torch\n",
        "c = torch.arange(start=0, end=9)\n",
        "print(c)\n",
        "print()\n",
        "c = torch.arange(start=1, end=20, step=2, dtype=torch.float64)\n",
        "print(c)\n"
      ],
      "execution_count": 321,
      "outputs": [
        {
          "output_type": "stream",
          "text": [
            "[0 1 2 3 4 5 6 7 8]\n",
            "\n",
            "[ 1.  3.  5.  7.  9. 11. 13. 15. 17. 19.] float32\n",
            "\n",
            "tf.Tensor([0 1 2 3 4 5 6 7 8], shape=(9,), dtype=int32)\n",
            "\n",
            "tf.Tensor([ 1.  3.  5.  7.  9. 11. 13. 15. 17. 19.], shape=(10,), dtype=float64)\n",
            "\n",
            "tensor([0, 1, 2, 3, 4, 5, 6, 7, 8])\n",
            "\n",
            "tensor([ 1.,  3.,  5.,  7.,  9., 11., 13., 15., 17., 19.], dtype=torch.float64)\n"
          ],
          "name": "stdout"
        }
      ]
    },
    {
      "cell_type": "markdown",
      "metadata": {
        "id": "WnSrIv-EdFjw",
        "colab_type": "text"
      },
      "source": [
        "# Type - Conversion"
      ]
    },
    {
      "cell_type": "code",
      "metadata": {
        "id": "eIifEYSea2m1",
        "colab_type": "code",
        "colab": {
          "base_uri": "https://localhost:8080/",
          "height": 156
        },
        "outputId": "29066931-c063-4cc6-efab-8f75ef9bc21c"
      },
      "source": [
        "# Numpy\n",
        "a = a.astype(np.uint8)\n",
        "print(a, a.dtype)\n",
        "print()\n",
        "\n",
        "# Tensorflow\n",
        "b = tf.cast(b, dtype=tf.uint8)\n",
        "print(b)\n",
        "print()\n",
        "\n",
        "# Torch\n",
        "c = torch.tensor(c)\n",
        "c= c.type(torch.int64)\n",
        "print(c)"
      ],
      "execution_count": 224,
      "outputs": [
        {
          "output_type": "stream",
          "text": [
            "[ 1  3  5  7  9 11 13 15 17 19] uint8\n",
            "\n",
            "tf.Tensor([ 1  3  5  7  9 11 13 15 17 19], shape=(10,), dtype=uint8)\n",
            "\n",
            "tensor([ 1,  3,  5,  7,  9, 11, 13, 15, 17, 19])\n"
          ],
          "name": "stdout"
        },
        {
          "output_type": "stream",
          "text": [
            "/usr/local/lib/python3.6/dist-packages/ipykernel_launcher.py:12: UserWarning: To copy construct from a tensor, it is recommended to use sourceTensor.clone().detach() or sourceTensor.clone().detach().requires_grad_(True), rather than torch.tensor(sourceTensor).\n",
            "  if sys.path[0] == '':\n"
          ],
          "name": "stderr"
        }
      ]
    },
    {
      "cell_type": "markdown",
      "metadata": {
        "id": "AYrtmYGrQjbJ",
        "colab_type": "text"
      },
      "source": [
        "# Math Operations"
      ]
    },
    {
      "cell_type": "markdown",
      "metadata": {
        "id": "x6KgV25TnmdY",
        "colab_type": "text"
      },
      "source": [
        "<img src=\"https://cdn-images-1.medium.com/max/1200/1*9kVr15tL5ahesHZ0myh-uQ.png\">\n",
        "<img src=\"https://cdn-images-1.medium.com/max/800/1*PtEYTcCsJJzMOBXrFQmLuQ.png\">\n",
        "<img src=\"https://cdn-images-1.medium.com/max/1200/1*94Zw_BDp1fufWCd7_-qeVg.png\">\n",
        "<img src=\"https://cdn-images-1.medium.com/max/800/1*a29LnvI0cgn0gzaP1kPZ6Q.png\">"
      ]
    },
    {
      "cell_type": "code",
      "metadata": {
        "id": "Kx5hHqd3bG2H",
        "colab_type": "code",
        "colab": {
          "base_uri": "https://localhost:8080/",
          "height": 510
        },
        "outputId": "f055a992-0493-46de-b126-781e1995c835"
      },
      "source": [
        "# Numpy\n",
        "a = np.array([1,2,3,4,5])\n",
        "b = np.array([6,7,8,9,10])\n",
        "c = np.add(a, b) # x + y\n",
        "print(c, c.dtype)\n",
        "print()\n",
        "c = np.subtract(b,a) # y - x\n",
        "print(c, c.dtype)\n",
        "print()\n",
        "c = np.divide(b,a) # y / x\n",
        "print(c, c.dtype)\n",
        "print()\n",
        "c = np.multiply(b,a) # y * x\n",
        "print(c, c.dtype)\n",
        "print()\n",
        "c = (a **2)\n",
        "print(c)\n",
        "print()\n",
        "\n",
        "# Tensorflow\n",
        "x = tf.constant([1,2,3,4,5])\n",
        "y = tf.constant([6,7,8,9,10])\n",
        "z = tf.add(x,y) # x + y\n",
        "print(z)\n",
        "print()\n",
        "z = tf.subtract(y,x) # y - x\n",
        "print(z)\n",
        "print()\n",
        "z = tf.divide(y,x) # y / x\n",
        "print(z)\n",
        "print()\n",
        "z = tf.multiply(y,x) # y * x\n",
        "print(z)\n",
        "print()\n",
        "z = (x **2)\n",
        "print(z)\n",
        "print()\n",
        "\n",
        "# Torch\n",
        "t = torch.tensor([1,2,3,4,5])\n",
        "u = torch.tensor([6,7,8,9,10])\n",
        "v = torch.add(t, u) # x + y\n",
        "print(v)\n",
        "print()\n",
        "v = torch.sub(u,t) # y - x\n",
        "print(v)\n",
        "print()\n",
        "v = torch.true_divide (u, t) # y / x\n",
        "print(v)\n",
        "print()\n",
        "v = torch.mul(u,t) # y * x\n",
        "print(v)\n",
        "print()\n",
        "v = (t **2)\n",
        "print(v)"
      ],
      "execution_count": 232,
      "outputs": [
        {
          "output_type": "stream",
          "text": [
            "[ 7  9 11 13 15] int64\n",
            "\n",
            "[5 5 5 5 5] int64\n",
            "\n",
            "[6.         3.5        2.66666667 2.25       2.        ] float64\n",
            "\n",
            "[ 6 14 24 36 50] int64\n",
            "\n",
            "[ 1  4  9 16 25]\n",
            "\n",
            "tf.Tensor([ 7  9 11 13 15], shape=(5,), dtype=int32)\n",
            "\n",
            "tf.Tensor([5 5 5 5 5], shape=(5,), dtype=int32)\n",
            "\n",
            "tf.Tensor([6.         3.5        2.66666667 2.25       2.        ], shape=(5,), dtype=float64)\n",
            "\n",
            "tf.Tensor([ 6 14 24 36 50], shape=(5,), dtype=int32)\n",
            "\n",
            "tf.Tensor([ 1  4  9 16 25], shape=(5,), dtype=int32)\n",
            "\n",
            "tensor([ 7,  9, 11, 13, 15])\n",
            "\n",
            "tensor([5, 5, 5, 5, 5])\n",
            "\n",
            "tensor([6.0000, 3.5000, 2.6667, 2.2500, 2.0000])\n",
            "\n",
            "tensor([ 6, 14, 24, 36, 50])\n",
            "\n",
            "tensor([ 1,  4,  9, 16, 25])\n"
          ],
          "name": "stdout"
        }
      ]
    },
    {
      "cell_type": "markdown",
      "metadata": {
        "id": "5Tp1A4_Ddved",
        "colab_type": "text"
      },
      "source": [
        "# Dot Product"
      ]
    },
    {
      "cell_type": "markdown",
      "metadata": {
        "id": "8o7KgHmBnyuU",
        "colab_type": "text"
      },
      "source": [
        "<img src=\"https://cdn-images-1.medium.com/max/800/1*Zyiav4DHpJRE52diaLmgQA.png\">"
      ]
    },
    {
      "cell_type": "code",
      "metadata": {
        "id": "M20Kuf0TQy-l",
        "colab_type": "code",
        "colab": {
          "base_uri": "https://localhost:8080/",
          "height": 102
        },
        "outputId": "87e0bc63-8d3e-407c-f9b2-01227b288cb7"
      },
      "source": [
        "# Numpy\n",
        "a = np.array([1,2,3,4,5])\n",
        "b = np.array([6,7,8,9,10])\n",
        "c = np.dot(a, b) # x + y\n",
        "print(c, c.dtype)\n",
        "print()\n",
        "\n",
        "# Tensorflow\n",
        "x = tf.constant([1,2,3,4,5])\n",
        "y = tf.constant([6,7,8,9,10])\n",
        "z = tf.tensordot(x,y, axes=1)\n",
        "print(z)\n",
        "print()\n",
        "\n",
        "# Torch\n",
        "t = torch.tensor([1,2,3,4,5])\n",
        "u = torch.tensor([6,7,8,9,10])\n",
        "v = torch.dot(t,u)\n",
        "print(v)"
      ],
      "execution_count": 235,
      "outputs": [
        {
          "output_type": "stream",
          "text": [
            "130 int64\n",
            "\n",
            "tf.Tensor(130, shape=(), dtype=int32)\n",
            "\n",
            "tensor(130)\n"
          ],
          "name": "stdout"
        }
      ]
    },
    {
      "cell_type": "markdown",
      "metadata": {
        "id": "Ka9b8e_Cn3a_",
        "colab_type": "text"
      },
      "source": [
        "<img src=\"https://cdn-images-1.medium.com/max/800/1*5D1UKW0bLcaQ3ZUN7sx3uA.png\">"
      ]
    },
    {
      "cell_type": "code",
      "metadata": {
        "id": "POi2Q7b-Rb2H",
        "colab_type": "code",
        "colab": {
          "base_uri": "https://localhost:8080/",
          "height": 170
        },
        "outputId": "4bc20acd-3aaa-4689-b508-917d5b879e1c"
      },
      "source": [
        "# Numpy\n",
        "a = np.array([[1,2,3], [4,5,6]])\n",
        "b = np.array([[1,2,3], [4,5,6], [7,8,9]])\n",
        "c = np.matmul(a,b) # (2,3) @ (3,3) --> (2,3) output shape\n",
        "print(c)\n",
        "print()\n",
        "\n",
        "# Tensorflow\n",
        "x = tf.constant([[1,2,3], [4,5,6]])\n",
        "y = tf.constant([[1,2,3], [4,5,6], [7,8,9]])\n",
        "z = tf.matmul(x,y) # (2,3) @ (3,3) --> (2,3) output shape\n",
        "print(z)\n",
        "print()\n",
        "\n",
        "# Torch\n",
        "t = torch.tensor([[1,2,3], [4,5,6]])\n",
        "u = torch.tensor([[1,2,3], [4,5,6], [7,8,9]])\n",
        "v = torch.matmul(t,u) # (2,3) @ (3,3) --> (2,3) output shape\n",
        "print(v)"
      ],
      "execution_count": 322,
      "outputs": [
        {
          "output_type": "stream",
          "text": [
            "[[30 36 42]\n",
            " [66 81 96]]\n",
            "\n",
            "tf.Tensor(\n",
            "[[30 36 42]\n",
            " [66 81 96]], shape=(2, 3), dtype=int32)\n",
            "\n",
            "tensor([[30, 36, 42],\n",
            "        [66, 81, 96]])\n"
          ],
          "name": "stdout"
        }
      ]
    },
    {
      "cell_type": "markdown",
      "metadata": {
        "id": "SmcYJBBgSYXo",
        "colab_type": "text"
      },
      "source": [
        "# Indexing and Slicing"
      ]
    },
    {
      "cell_type": "markdown",
      "metadata": {
        "id": "HV5xb9B1n8xY",
        "colab_type": "text"
      },
      "source": [
        "<img src=\"https://cdn-images-1.medium.com/max/800/1*Nmg32Jhd5XMxy1gZULd46A.png\">"
      ]
    },
    {
      "cell_type": "code",
      "metadata": {
        "id": "-9l-lPYBR1v_",
        "colab_type": "code",
        "colab": {
          "base_uri": "https://localhost:8080/",
          "height": 255
        },
        "outputId": "3e55156e-b7be-4230-f026-eeb125fa6530"
      },
      "source": [
        "# Numpy\n",
        "a = np.array([1,2,3,4,5,6,7,8])\n",
        "print(a[:])\n",
        "print(a[2:-3])\n",
        "print(a[3:-1])\n",
        "print(a[::2])\n",
        "print()\n",
        "\n",
        "# Tensorflow\n",
        "b = tf.constant([1,2,3,4,5,6,7,8])\n",
        "print(b[:])\n",
        "print(b[2:-3])\n",
        "print(b[3:-1])\n",
        "print(b[::2])\n",
        "print()\n",
        "\n",
        "# Torch\n",
        "c = torch.tensor([1,2,3,4,5,6,7,8])\n",
        "print(c[:])\n",
        "print(c[2:-3])\n",
        "print(c[3:-1])\n",
        "print(c[::2])"
      ],
      "execution_count": 332,
      "outputs": [
        {
          "output_type": "stream",
          "text": [
            "[1 2 3 4 5 6 7 8]\n",
            "[3 4 5]\n",
            "[4 5 6 7]\n",
            "[1 3 5 7]\n",
            "\n",
            "tf.Tensor([1 2 3 4 5 6 7 8], shape=(8,), dtype=int32)\n",
            "tf.Tensor([3 4 5], shape=(3,), dtype=int32)\n",
            "tf.Tensor([4 5 6 7], shape=(4,), dtype=int32)\n",
            "tf.Tensor([1 3 5 7], shape=(4,), dtype=int32)\n",
            "\n",
            "tensor([1, 2, 3, 4, 5, 6, 7, 8])\n",
            "tensor([3, 4, 5])\n",
            "tensor([4, 5, 6, 7])\n",
            "tensor([1, 3, 5, 7])\n"
          ],
          "name": "stdout"
        }
      ]
    },
    {
      "cell_type": "code",
      "metadata": {
        "id": "1K26KzoySjFY",
        "colab_type": "code",
        "colab": {
          "base_uri": "https://localhost:8080/",
          "height": 102
        },
        "outputId": "b606f8f6-b007-47d6-a75b-44ae5fe21d7c"
      },
      "source": [
        "# Numpy\n",
        "indices = np.array([0,3,5])\n",
        "x_indices = a[indices]\n",
        "print(x_indices)\n",
        "print()\n",
        "\n",
        "# Tensorflow\n",
        "indices = tf.constant([0,3,5])\n",
        "x_indices = tf.gather(b, indices)\n",
        "print(x_indices)\n",
        "print()\n",
        "\n",
        "# Torch\n",
        "indices = torch.tensor([0,3,5])\n",
        "x_indices = c[indices]\n",
        "print(x_indices)"
      ],
      "execution_count": 242,
      "outputs": [
        {
          "output_type": "stream",
          "text": [
            "[1 4 6]\n",
            "\n",
            "tf.Tensor([1 4 6], shape=(3,), dtype=int32)\n",
            "\n",
            "tensor([1, 4, 6])\n"
          ],
          "name": "stdout"
        }
      ]
    },
    {
      "cell_type": "markdown",
      "metadata": {
        "id": "eWbkxJOxoAgt",
        "colab_type": "text"
      },
      "source": [
        "<img src=\"https://cdn-images-1.medium.com/max/800/1*lgCTWIny8nGCxPNFjWMIPA.png\">"
      ]
    },
    {
      "cell_type": "code",
      "metadata": {
        "id": "FItk4zRjTDlh",
        "colab_type": "code",
        "colab": {
          "base_uri": "https://localhost:8080/",
          "height": 952
        },
        "outputId": "c2c4d4f3-42bf-4f03-84cb-e46815979fe0"
      },
      "source": [
        "# Numpy\n",
        "a = np.array([[1,2,3],\n",
        "              [4,5,6],\n",
        "              [7,8,9]])\n",
        "\n",
        "# Matrix Indexing\n",
        "# Print all individual Rows and Columns\n",
        "print(\"Row-1\",a[0, :])\n",
        "print(\"Row-2\",a[1, :])\n",
        "print(\"Row-3\",a[2, :])\n",
        "print()\n",
        "print(\"Col-1\",a[:, 0])\n",
        "print(\"Col-2\",a[:, 1])\n",
        "print(\"Col-3\",a[:, 2])\n",
        "print()\n",
        "\n",
        "# Print the sub-diagonal matrix\n",
        "print(\"Upper-Left\",a[0:2,0:2])\n",
        "print(\"Upper-Right\",a[0:2,1:3])\n",
        "print()\n",
        "print(\"Bottom-Left\",a[1:3,0:2])\n",
        "print(\"Bottom-Right\",a[1:3,1:3])\n",
        "\n",
        "\n",
        "# Tensorflow\n",
        "b = tf.constant([[1,2,3],\n",
        "                 [4,5,6],\n",
        "                 [7,8,9]])\n",
        "\n",
        "# Matrix Indexing\n",
        "# Print all individual Rows and Columns\n",
        "print(\"Row-1\",b[0, :])\n",
        "print(\"Row-2\",b[1, :])\n",
        "print(\"Row-3\",b[2, :])\n",
        "print()\n",
        "print(\"Col-1\",b[:, 0])\n",
        "print(\"Col-2\",b[:, 1])\n",
        "print(\"Col-3\",b[:, 2])\n",
        "print()\n",
        "\n",
        "# Print the sub-diagonal matrix\n",
        "print(\"Upper-Left\",b[0:2,0:2])\n",
        "print(\"Upper-Right\",b[0:2,1:3])\n",
        "print()\n",
        "print(\"Bottom-Left\",b[1:3,0:2])\n",
        "print(\"Bottom-Right\",b[1:3,1:3])\n",
        "\n",
        "# Torch\n",
        "c = torch.tensor([[1,2,3],\n",
        "                 [4,5,6],\n",
        "                 [7,8,9]])\n",
        "\n",
        "# Matrix Indexing\n",
        "# Print all individual Rows and Columns\n",
        "print(\"Row-1\",c[0, :])\n",
        "print(\"Row-2\",c[1, :])\n",
        "print(\"Row-3\",c[2, :])\n",
        "print()\n",
        "print(\"Col-1\",c[:, 0])\n",
        "print(\"Col-2\",c[:, 1])\n",
        "print(\"Col-3\",c[:, 2])\n",
        "print()\n",
        "\n",
        "# Print the sub-diagonal matrix\n",
        "print(\"Upper-Left\",c[0:2,0:2])\n",
        "print(\"Upper-Right\",c[0:2,1:3])\n",
        "print()\n",
        "print(\"Bottom-Left\",c[1:3,0:2])\n",
        "print(\"Bottom-Right\",c[1:3,1:3])"
      ],
      "execution_count": 244,
      "outputs": [
        {
          "output_type": "stream",
          "text": [
            "Row-1 [1 2 3]\n",
            "Row-2 [4 5 6]\n",
            "Row-3 [7 8 9]\n",
            "\n",
            "Col-1 [1 4 7]\n",
            "Col-2 [2 5 8]\n",
            "Col-3 [3 6 9]\n",
            "\n",
            "Upper-Left [[1 2]\n",
            " [4 5]]\n",
            "Upper-Right [[2 3]\n",
            " [5 6]]\n",
            "\n",
            "Bottom-Left [[4 5]\n",
            " [7 8]]\n",
            "Bottom-Right [[5 6]\n",
            " [8 9]]\n",
            "Row-1 tf.Tensor([1 2 3], shape=(3,), dtype=int32)\n",
            "Row-2 tf.Tensor([4 5 6], shape=(3,), dtype=int32)\n",
            "Row-3 tf.Tensor([7 8 9], shape=(3,), dtype=int32)\n",
            "\n",
            "Col-1 tf.Tensor([1 4 7], shape=(3,), dtype=int32)\n",
            "Col-2 tf.Tensor([2 5 8], shape=(3,), dtype=int32)\n",
            "Col-3 tf.Tensor([3 6 9], shape=(3,), dtype=int32)\n",
            "\n",
            "Upper-Left tf.Tensor(\n",
            "[[1 2]\n",
            " [4 5]], shape=(2, 2), dtype=int32)\n",
            "Upper-Right tf.Tensor(\n",
            "[[2 3]\n",
            " [5 6]], shape=(2, 2), dtype=int32)\n",
            "\n",
            "Bottom-Left tf.Tensor(\n",
            "[[4 5]\n",
            " [7 8]], shape=(2, 2), dtype=int32)\n",
            "Bottom-Right tf.Tensor(\n",
            "[[5 6]\n",
            " [8 9]], shape=(2, 2), dtype=int32)\n",
            "Row-1 tensor([1, 2, 3])\n",
            "Row-2 tensor([4, 5, 6])\n",
            "Row-3 tensor([7, 8, 9])\n",
            "\n",
            "Col-1 tensor([1, 4, 7])\n",
            "Col-2 tensor([2, 5, 8])\n",
            "Col-3 tensor([3, 6, 9])\n",
            "\n",
            "Upper-Left tensor([[1, 2],\n",
            "        [4, 5]])\n",
            "Upper-Right tensor([[2, 3],\n",
            "        [5, 6]])\n",
            "\n",
            "Bottom-Left tensor([[4, 5],\n",
            "        [7, 8]])\n",
            "Bottom-Right tensor([[5, 6],\n",
            "        [8, 9]])\n"
          ],
          "name": "stdout"
        }
      ]
    },
    {
      "cell_type": "markdown",
      "metadata": {
        "id": "Nu_VTm97VEDH",
        "colab_type": "text"
      },
      "source": [
        "# Reshaping"
      ]
    },
    {
      "cell_type": "markdown",
      "metadata": {
        "id": "XLKWqX6ZoE9G",
        "colab_type": "text"
      },
      "source": [
        "<img src=\"https://cdn-images-1.medium.com/max/800/1*CY6ulUvaIpBpefZL3aJj8w.png\">"
      ]
    },
    {
      "cell_type": "code",
      "metadata": {
        "id": "8L1WdxyCTqTJ",
        "colab_type": "code",
        "colab": {
          "base_uri": "https://localhost:8080/",
          "height": 442
        },
        "outputId": "d5919a77-9ee1-4c41-982e-eb9d9bf2ba6e"
      },
      "source": [
        "# Numpy\n",
        "a = np.arange(9)\n",
        "print(a)\n",
        "a = np.reshape(a, (3,3))\n",
        "print(a)\n",
        "a = np.transpose(a, (1,0)) # Swap axes (1,0), use (0,1) nothing happens\n",
        "print(a)\n",
        "print()\n",
        "\n",
        "# Tensorflow\n",
        "b = tf.range(9)\n",
        "print(b)\n",
        "b = tf.reshape(b, (3,3))\n",
        "print(b)\n",
        "b = tf.transpose(b, perm=[1,0]) # Swap axes in perm (1,0), use (0,1) nothing happens\n",
        "print(b)\n",
        "print()\n",
        "\n",
        "# Torch\n",
        "c = torch.arange(9)\n",
        "print(c)\n",
        "c = torch.reshape(c, (3,3))\n",
        "print(c)\n",
        "c = c.permute(1,0) # Swap axes in perm (1,0), use (0,1) nothing happens\n",
        "print(c)"
      ],
      "execution_count": 333,
      "outputs": [
        {
          "output_type": "stream",
          "text": [
            "[0 1 2 3 4 5 6 7 8]\n",
            "[[0 1 2]\n",
            " [3 4 5]\n",
            " [6 7 8]]\n",
            "[[0 3 6]\n",
            " [1 4 7]\n",
            " [2 5 8]]\n",
            "\n",
            "tf.Tensor([0 1 2 3 4 5 6 7 8], shape=(9,), dtype=int32)\n",
            "tf.Tensor(\n",
            "[[0 1 2]\n",
            " [3 4 5]\n",
            " [6 7 8]], shape=(3, 3), dtype=int32)\n",
            "tf.Tensor(\n",
            "[[0 3 6]\n",
            " [1 4 7]\n",
            " [2 5 8]], shape=(3, 3), dtype=int32)\n",
            "\n",
            "tensor([0, 1, 2, 3, 4, 5, 6, 7, 8])\n",
            "tensor([[0, 1, 2],\n",
            "        [3, 4, 5],\n",
            "        [6, 7, 8]])\n",
            "tensor([[0, 3, 6],\n",
            "        [1, 4, 7],\n",
            "        [2, 5, 8]])\n"
          ],
          "name": "stdout"
        }
      ]
    },
    {
      "cell_type": "markdown",
      "metadata": {
        "id": "zyPtNljjiZkM",
        "colab_type": "text"
      },
      "source": [
        "# Concatenation"
      ]
    },
    {
      "cell_type": "markdown",
      "metadata": {
        "id": "47pOT3d1oJho",
        "colab_type": "text"
      },
      "source": [
        "<img src=\"https://cdn-images-1.medium.com/max/800/1*rJjgnsdb9AOfGUuxDRhaqA.png\">"
      ]
    },
    {
      "cell_type": "code",
      "metadata": {
        "id": "K65bnUYkVN9Q",
        "colab_type": "code",
        "colab": {
          "base_uri": "https://localhost:8080/",
          "height": 765
        },
        "outputId": "de8552b8-fb50-41fa-89d7-065d8ae58990"
      },
      "source": [
        "# Numpy\n",
        "a = np.array([[1, 2], [3, 4]])\n",
        "print(\"a\",a)\n",
        "b = np.array([[5, 6]])\n",
        "print(\"b\",b)\n",
        "print()\n",
        "d = np.concatenate((a, b), axis=0)\n",
        "print(\"Concat (axis=0 - Row)\")\n",
        "print(d)\n",
        "print()\n",
        "e = np.concatenate((a, b.T), axis=1)\n",
        "print(\"Concat (axis=1 - Column)\")\n",
        "print(e)\n",
        "print()\n",
        "print()\n",
        "\n",
        "# Tensorflow\n",
        "x = tf.constant([[1, 2], [3, 4]])\n",
        "print(\"x\",x)\n",
        "y = tf.constant([[5, 6]])\n",
        "print(\"y\",y)\n",
        "print()\n",
        "z = tf.concat((x, y), axis=0)\n",
        "print(\"Concat (axis=0 - Row)\")\n",
        "print(z)\n",
        "print()\n",
        "z = tf.concat((x, tf.transpose(y)), axis=1)\n",
        "print(\"Concat (axis=1 - Column)\")\n",
        "print(z)\n",
        "print()\n",
        "print()\n",
        "\n",
        "# Torch\n",
        "t = torch.tensor([[1, 2], [3, 4]])\n",
        "print(\"x\",t)\n",
        "u = torch.tensor([[5, 6]])\n",
        "print(\"y\",u)\n",
        "print()\n",
        "v = torch.cat((t , u), axis=0)\n",
        "print(\"Concat (axis=0 - Row)\")\n",
        "print(v)\n",
        "print()\n",
        "v = torch.cat((t , u.T), axis=1)\n",
        "print(\"Concat (axis=1 - Column)\")\n",
        "print(v)\n",
        "print()\n"
      ],
      "execution_count": 251,
      "outputs": [
        {
          "output_type": "stream",
          "text": [
            "a [[1 2]\n",
            " [3 4]]\n",
            "b [[5 6]]\n",
            "\n",
            "Concat (axis=0 - Row)\n",
            "[[1 2]\n",
            " [3 4]\n",
            " [5 6]]\n",
            "\n",
            "Concat (axis=1 - Column)\n",
            "[[1 2 5]\n",
            " [3 4 6]]\n",
            "\n",
            "\n",
            "x tf.Tensor(\n",
            "[[1 2]\n",
            " [3 4]], shape=(2, 2), dtype=int32)\n",
            "y tf.Tensor([[5 6]], shape=(1, 2), dtype=int32)\n",
            "\n",
            "Concat (axis=0 - Row)\n",
            "tf.Tensor(\n",
            "[[1 2]\n",
            " [3 4]\n",
            " [5 6]], shape=(3, 2), dtype=int32)\n",
            "\n",
            "Concat (axis=1 - Column)\n",
            "tf.Tensor(\n",
            "[[1 2 5]\n",
            " [3 4 6]], shape=(2, 3), dtype=int32)\n",
            "\n",
            "\n",
            "x tensor([[1, 2],\n",
            "        [3, 4]])\n",
            "y tensor([[5, 6]])\n",
            "\n",
            "Concat (axis=0 - Row)\n",
            "tensor([[1, 2],\n",
            "        [3, 4],\n",
            "        [5, 6]])\n",
            "\n",
            "Concat (axis=1 - Column)\n",
            "tensor([[1, 2, 5],\n",
            "        [3, 4, 6]])\n",
            "\n"
          ],
          "name": "stdout"
        }
      ]
    },
    {
      "cell_type": "markdown",
      "metadata": {
        "id": "y0Do3JncoZ_I",
        "colab_type": "text"
      },
      "source": [
        "\n",
        "# Summing across every axis"
      ]
    },
    {
      "cell_type": "markdown",
      "metadata": {
        "id": "jDxsQ9looPQR",
        "colab_type": "text"
      },
      "source": [
        "<img src=\"https://cdn-images-1.medium.com/max/800/1*9tTRW07UAXAkE1aFKM0GGA.png\">"
      ]
    },
    {
      "cell_type": "code",
      "metadata": {
        "id": "333yoSr5nXk6",
        "colab_type": "code",
        "colab": {
          "base_uri": "https://localhost:8080/",
          "height": 391
        },
        "outputId": "2235ddb8-5b7d-4ad9-ad2a-0846162bf0f6"
      },
      "source": [
        "# Numpy\n",
        "a = np.array([[1,2,3,4,5], [10,10,10,10,10]])\n",
        "print(a)\n",
        "print()\n",
        "print(\"Overall flattened Sum\", a.sum())\n",
        "print(\"Sum across Columns\",a.sum(axis=0)) \n",
        "print(\"Sum across Rows\",a.sum(axis=1))\n",
        "print()\n",
        "\n",
        "# Tensorflow\n",
        "b = tf.constant([[1,2,3,4,5], [10,10,10,10,10]])\n",
        "print(b)\n",
        "print()\n",
        "print(\"Overall flattened Sum\",tf.math.reduce_sum(b))\n",
        "print(\"Sum across Columns\",tf.math.reduce_sum(b, axis=0))\n",
        "print(\"Sum across Rows\",tf.math.reduce_sum(b, axis=1))\n",
        "print()\n",
        "\n",
        "# Torch\n",
        "c = torch.tensor([[1,2,3,4,5], [10,10,10,10,10]])\n",
        "print(c)\n",
        "print()\n",
        "print(\"Overall flattened  Sum\",torch.sum(c))\n",
        "print(\"Sum across Columns\",torch.sum(c, axis=0))\n",
        "print(\"Sum across Rows\",torch.sum(c, axis=1))\n",
        "print()"
      ],
      "execution_count": 335,
      "outputs": [
        {
          "output_type": "stream",
          "text": [
            "[[ 1  2  3  4  5]\n",
            " [10 10 10 10 10]]\n",
            "\n",
            "Overall flattened Sum 65\n",
            "Sum across Columns [11 12 13 14 15]\n",
            "Sum across Rows [15 50]\n",
            "\n",
            "tf.Tensor(\n",
            "[[ 1  2  3  4  5]\n",
            " [10 10 10 10 10]], shape=(2, 5), dtype=int32)\n",
            "\n",
            "Overall flattened Sum tf.Tensor(65, shape=(), dtype=int32)\n",
            "Sum across Columns tf.Tensor([11 12 13 14 15], shape=(5,), dtype=int32)\n",
            "Sum across Rows tf.Tensor([15 50], shape=(2,), dtype=int32)\n",
            "\n",
            "tensor([[ 1,  2,  3,  4,  5],\n",
            "        [10, 10, 10, 10, 10]])\n",
            "\n",
            "Overall flattened  Sum tensor(65)\n",
            "Sum across Columns tensor([11, 12, 13, 14, 15])\n",
            "Sum across Rows tensor([15, 50])\n",
            "\n"
          ],
          "name": "stdout"
        }
      ]
    },
    {
      "cell_type": "markdown",
      "metadata": {
        "id": "OqkfIKqHp-wK",
        "colab_type": "text"
      },
      "source": [
        "# Taking mean across every axis"
      ]
    },
    {
      "cell_type": "markdown",
      "metadata": {
        "id": "Czn4Z3q1oSQC",
        "colab_type": "text"
      },
      "source": [
        "<img src=\"https://cdn-images-1.medium.com/max/800/1*-mEa_EJExGYgu_nbNXnK5Q.png\">"
      ]
    },
    {
      "cell_type": "code",
      "metadata": {
        "id": "MNtOXuXjoo44",
        "colab_type": "code",
        "colab": {
          "base_uri": "https://localhost:8080/",
          "height": 374
        },
        "outputId": "d067b108-f33d-402f-a1ae-3adc3e037529"
      },
      "source": [
        "# Numpy\n",
        "a = np.array([[1,2,3,4,5], [10,10,10,10,10]])\n",
        "print(a)\n",
        "print()\n",
        "print(\"Overall flattened mean\", a.mean())\n",
        "print(\"Sum across Columns\",a.mean(axis=0)) \n",
        "print(\"Sum across Rows\",a.mean(axis=1))\n",
        "print()\n",
        "\n",
        "# Tensorflow\n",
        "b = tf.constant([[1,2,3,4,5], [10,10,10,10,10]])\n",
        "print(b)\n",
        "print()\n",
        "print(\"Overall flattened mean\",tf.math.reduce_mean(b))\n",
        "print(\"Sum across Columns\",tf.math.reduce_mean(b, axis=0))\n",
        "print(\"Sum across Rows\",tf.math.reduce_mean(b, axis=1))\n",
        "print()\n",
        "\n",
        "# Torch\n",
        "c = torch.tensor([[1,2,3,4,5], [10,10,10,10,10]], dtype=torch.float32)\n",
        "print(c)\n",
        "print()\n",
        "print(\"Overall flattened mean\",torch.mean(c))\n",
        "print(\"Sum across Columns\",torch.mean(c, axis=0))\n",
        "print(\"Sum across Rows\",torch.mean(c, axis=1))"
      ],
      "execution_count": 336,
      "outputs": [
        {
          "output_type": "stream",
          "text": [
            "[[ 1  2  3  4  5]\n",
            " [10 10 10 10 10]]\n",
            "\n",
            "Overall flattened mean 6.5\n",
            "Sum across Columns [5.5 6.  6.5 7.  7.5]\n",
            "Sum across Rows [ 3. 10.]\n",
            "\n",
            "tf.Tensor(\n",
            "[[ 1  2  3  4  5]\n",
            " [10 10 10 10 10]], shape=(2, 5), dtype=int32)\n",
            "\n",
            "Overall flattened mean tf.Tensor(6, shape=(), dtype=int32)\n",
            "Sum across Columns tf.Tensor([5 6 6 7 7], shape=(5,), dtype=int32)\n",
            "Sum across Rows tf.Tensor([ 3 10], shape=(2,), dtype=int32)\n",
            "\n",
            "tensor([[ 1.,  2.,  3.,  4.,  5.],\n",
            "        [10., 10., 10., 10., 10.]])\n",
            "\n",
            "Overall flattened mean tensor(6.5000)\n",
            "Sum across Columns tensor([5.5000, 6.0000, 6.5000, 7.0000, 7.5000])\n",
            "Sum across Rows tensor([ 3., 10.])\n"
          ],
          "name": "stdout"
        }
      ]
    },
    {
      "cell_type": "markdown",
      "metadata": {
        "id": "MbBc4U73rEDp",
        "colab_type": "text"
      },
      "source": [
        "# Dimension Expansion & move dimension"
      ]
    },
    {
      "cell_type": "markdown",
      "metadata": {
        "id": "RHvy6EztoZIz",
        "colab_type": "text"
      },
      "source": [
        "<img src=\"https://cdn-images-1.medium.com/max/800/1*dbkaG5dXETNEiZRqyIdlQw.png\">"
      ]
    },
    {
      "cell_type": "code",
      "metadata": {
        "id": "BdhqARp6CZq6",
        "colab_type": "code",
        "colab": {
          "base_uri": "https://localhost:8080/",
          "height": 918
        },
        "outputId": "802aab04-b229-4a4f-b265-c405aebfef39"
      },
      "source": [
        "# Numpy\n",
        "a = np.full((3,3),10.0)\n",
        "print(a)\n",
        "print(a.shape)\n",
        "a = np.expand_dims(a, axis=0)\n",
        "print(a)\n",
        "print(a.shape)\n",
        "b = np.full((3,3),20.0)\n",
        "print(b)\n",
        "b = np.expand_dims(b, axis=0)\n",
        "print(b.shape)\n",
        "c = np.concatenate((a,b), axis=0)\n",
        "c = np.moveaxis(c,2,0) # Move 2nd dimension to 0th position\n",
        "print(c)\n",
        "print(c.shape)\n",
        "print()\n",
        "\n",
        "# Tensorflow\n",
        "x = tf.fill((3,3),10.0)\n",
        "print(x)\n",
        "print(x.shape)\n",
        "x = tf.expand_dims(x, axis=0)\n",
        "print(x.shape)\n",
        "y = tf.fill((3,3),20.0)\n",
        "print(y)\n",
        "print(y.shape)\n",
        "y = tf.expand_dims(y, axis=0)\n",
        "print(y.shape)\n",
        "z = tf.concat((x,y), axis=0)\n",
        "z = tf.transpose(z, [1, 0, 2])\n",
        "print(z.shape)\n",
        "print()\n",
        "\n",
        "# Torch\n",
        "m1 = torch.ones((2,), dtype=torch.int32)\n",
        "m1 = m1.new_full((3, 3), 10)\n",
        "m1 = torch.unsqueeze(m1, axis=0)\n",
        "print(m1)\n",
        "print(m1.shape)\n",
        "m2 = torch.ones((2,), dtype=torch.int32)\n",
        "m2 = m2.new_full((3, 3), 20)\n",
        "print(m2)\n",
        "m2 = torch.unsqueeze(m2, axis=0)\n",
        "print(m2.shape)\n",
        "m = torch.cat((m1,m2), axis=0)\n",
        "m = m.permute([1,0,2])\n",
        "print(m)\n",
        "m.shape"
      ],
      "execution_count": 339,
      "outputs": [
        {
          "output_type": "stream",
          "text": [
            "[[10. 10. 10.]\n",
            " [10. 10. 10.]\n",
            " [10. 10. 10.]]\n",
            "(3, 3)\n",
            "[[[10. 10. 10.]\n",
            "  [10. 10. 10.]\n",
            "  [10. 10. 10.]]]\n",
            "(1, 3, 3)\n",
            "[[20. 20. 20.]\n",
            " [20. 20. 20.]\n",
            " [20. 20. 20.]]\n",
            "(1, 3, 3)\n",
            "[[[10. 10. 10.]\n",
            "  [20. 20. 20.]]\n",
            "\n",
            " [[10. 10. 10.]\n",
            "  [20. 20. 20.]]\n",
            "\n",
            " [[10. 10. 10.]\n",
            "  [20. 20. 20.]]]\n",
            "(3, 2, 3)\n",
            "\n",
            "tf.Tensor(\n",
            "[[10. 10. 10.]\n",
            " [10. 10. 10.]\n",
            " [10. 10. 10.]], shape=(3, 3), dtype=float32)\n",
            "(3, 3)\n",
            "(1, 3, 3)\n",
            "tf.Tensor(\n",
            "[[20. 20. 20.]\n",
            " [20. 20. 20.]\n",
            " [20. 20. 20.]], shape=(3, 3), dtype=float32)\n",
            "(3, 3)\n",
            "(1, 3, 3)\n",
            "(3, 2, 3)\n",
            "\n",
            "tensor([[[10, 10, 10],\n",
            "         [10, 10, 10],\n",
            "         [10, 10, 10]]], dtype=torch.int32)\n",
            "torch.Size([1, 3, 3])\n",
            "tensor([[20, 20, 20],\n",
            "        [20, 20, 20],\n",
            "        [20, 20, 20]], dtype=torch.int32)\n",
            "torch.Size([1, 3, 3])\n",
            "tensor([[[10, 10, 10],\n",
            "         [20, 20, 20]],\n",
            "\n",
            "        [[10, 10, 10],\n",
            "         [20, 20, 20]],\n",
            "\n",
            "        [[10, 10, 10],\n",
            "         [20, 20, 20]]], dtype=torch.int32)\n"
          ],
          "name": "stdout"
        },
        {
          "output_type": "execute_result",
          "data": {
            "text/plain": [
              "torch.Size([3, 2, 3])"
            ]
          },
          "metadata": {
            "tags": []
          },
          "execution_count": 339
        }
      ]
    },
    {
      "cell_type": "code",
      "metadata": {
        "id": "6CQiA6c3G4by",
        "colab_type": "code",
        "colab": {}
      },
      "source": [
        ""
      ],
      "execution_count": null,
      "outputs": []
    }
  ]
}