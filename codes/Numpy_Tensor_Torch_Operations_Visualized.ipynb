{
  "nbformat": 4,
  "nbformat_minor": 0,
  "metadata": {
    "colab": {
      "name": "Numpy-Tensor-Torch-Operations-Visualized.ipynb",
      "provenance": [],
      "collapsed_sections": [],
      "authorship_tag": "ABX9TyPKvwCvtgX1fv2SYKq1B4wE",
      "include_colab_link": true
    },
    "kernelspec": {
      "name": "python3",
      "display_name": "Python 3"
    }
  },
  "cells": [
    {
      "cell_type": "markdown",
      "metadata": {
        "id": "view-in-github",
        "colab_type": "text"
      },
      "source": [
        "<a href=\"https://colab.research.google.com/github/bala-codes/Numpy-Tensor-Torch-Operations-Visualized/blob/master/codes/Numpy_Tensor_Torch_Operations_Visualized.ipynb\" target=\"_parent\"><img src=\"https://colab.research.google.com/assets/colab-badge.svg\" alt=\"Open In Colab\"/></a>"
      ]
    },
    {
      "cell_type": "code",
      "metadata": {
        "id": "TQLvoE7TOfzI",
        "colab_type": "code",
        "colab": {
          "base_uri": "https://localhost:8080/",
          "height": 68
        },
        "outputId": "bbf57ea1-9f12-4c8c-ba1b-5f6ac28644fe"
      },
      "source": [
        "import tensorflow as tf\n",
        "import numpy as np\n",
        "import torch\n",
        "\n",
        "print(tf.__version__)\n",
        "print(np.__version__)\n",
        "print(torch.__version__)"
      ],
      "execution_count": 1,
      "outputs": [
        {
          "output_type": "stream",
          "text": [
            "2.3.0\n",
            "1.18.5\n",
            "1.6.0+cu101\n"
          ],
          "name": "stdout"
        }
      ]
    },
    {
      "cell_type": "markdown",
      "metadata": {
        "id": "XWCpMQtVmfur",
        "colab_type": "text"
      },
      "source": [
        "<img src=\"https://cdn-images-1.medium.com/max/800/1*ommNjebqhFUWnWvcogfaAw.png\">"
      ]
    },
    {
      "cell_type": "markdown",
      "metadata": {
        "id": "uIrbh_1XPnFM",
        "colab_type": "text"
      },
      "source": [
        "# Array Initialization ~ 1D, 2D, 3D"
      ]
    },
    {
      "cell_type": "markdown",
      "metadata": {
        "id": "cJwFV5-Fmkce",
        "colab_type": "text"
      },
      "source": [
        "<img src=\"https://cdn-images-1.medium.com/max/800/1*Ei4EFkk0qUh6RYq5cKQO4g.png\">"
      ]
    },
    {
      "cell_type": "markdown",
      "metadata": {
        "id": "aRxIxrK7X_cA",
        "colab_type": "text"
      },
      "source": [
        "## Scalar and 1-D Vector"
      ]
    },
    {
      "cell_type": "code",
      "metadata": {
        "id": "4Xym355RWK3p",
        "colab_type": "code",
        "colab": {
          "base_uri": "https://localhost:8080/",
          "height": 340
        },
        "outputId": "f7e77abc-74c2-46e3-bfc4-6fc1aba4ef07"
      },
      "source": [
        "# Numpy \n",
        "a = np.array(10)\n",
        "print(a)\n",
        "print(a.shape, a.dtype) # shape of the array and type of the elements\n",
        "print()\n",
        "a = np.array([10])\n",
        "print(a)\n",
        "print(a.shape, a.dtype) # shape of the array and type of the elements\n",
        "print()\n",
        "a = np.array([10], dtype=np.float32)\n",
        "print(a)\n",
        "print(a.shape, a.dtype) # shape of the array and type of the elements\n",
        "print()\n",
        "\n",
        "# TensorFlow\n",
        "b = tf.constant(10) # As Scalar\n",
        "print(b)\n",
        "print()\n",
        "b = tf.constant(10, shape=(1,1)) # As 1-D Vector\n",
        "print(b)\n",
        "print()\n",
        "b = tf.constant(10, shape=(1,1), dtype=tf.float32) # As 1-D Vector with specified Data-type\n",
        "print(b)\n",
        "\n",
        "# Torch\n",
        "c = torch.tensor(10, ) # As Scalar\n",
        "print(c)\n",
        "print()\n",
        "c = torch.tensor([10]) # As 1-D Vector\n",
        "print(c, c.shape, c.dtype)\n",
        "print()\n",
        "c = torch.tensor([10], dtype=torch.float32) # As 1-D Vector with specified Data-type\n",
        "print(c)"
      ],
      "execution_count": 2,
      "outputs": [
        {
          "output_type": "stream",
          "text": [
            "10\n",
            "() int64\n",
            "\n",
            "[10]\n",
            "(1,) int64\n",
            "\n",
            "[10.]\n",
            "(1,) float32\n",
            "\n",
            "tf.Tensor(10, shape=(), dtype=int32)\n",
            "\n",
            "tf.Tensor([[10]], shape=(1, 1), dtype=int32)\n",
            "\n",
            "tf.Tensor([[10.]], shape=(1, 1), dtype=float32)\n",
            "tensor(10)\n",
            "\n",
            "tensor([10]) torch.Size([1]) torch.int64\n",
            "\n",
            "tensor([10.])\n"
          ],
          "name": "stdout"
        }
      ]
    },
    {
      "cell_type": "markdown",
      "metadata": {
        "id": "AkcuIo_UYDAp",
        "colab_type": "text"
      },
      "source": [
        "## 2-D Vector"
      ]
    },
    {
      "cell_type": "markdown",
      "metadata": {
        "id": "4KttHcggmwPN",
        "colab_type": "text"
      },
      "source": [
        "<img src=\"https://cdn-images-1.medium.com/max/800/1*SqK5t1Ud5ksMpmZQjT98AQ.png\">"
      ]
    },
    {
      "cell_type": "code",
      "metadata": {
        "id": "7PruzipwYGAr",
        "colab_type": "code",
        "colab": {
          "base_uri": "https://localhost:8080/",
          "height": 221
        },
        "outputId": "f76f95e6-a254-4356-9de4-0212842b188b"
      },
      "source": [
        "# Numpy\n",
        "a = np.array([[1,2,3], [4,5,6]])\n",
        "print(a)\n",
        "print(a.shape, a.dtype)\n",
        "print()\n",
        "\n",
        "# Tensorflow\n",
        "b = tf.constant([[1,2,3], [4,5,6]])\n",
        "print(b)\n",
        "print(b.shape)\n",
        "print()\n",
        "\n",
        "# Torch\n",
        "c = torch.tensor([[1,2,3], [4,5,6]]) \n",
        "print(c)\n",
        "print(c.shape)"
      ],
      "execution_count": 3,
      "outputs": [
        {
          "output_type": "stream",
          "text": [
            "[[1 2 3]\n",
            " [4 5 6]]\n",
            "(2, 3) int64\n",
            "\n",
            "tf.Tensor(\n",
            "[[1 2 3]\n",
            " [4 5 6]], shape=(2, 3), dtype=int32)\n",
            "(2, 3)\n",
            "\n",
            "tensor([[1, 2, 3],\n",
            "        [4, 5, 6]])\n",
            "torch.Size([2, 3])\n"
          ],
          "name": "stdout"
        }
      ]
    },
    {
      "cell_type": "markdown",
      "metadata": {
        "id": "WpG6TVaaqgNJ",
        "colab_type": "text"
      },
      "source": [
        "# Generating data"
      ]
    },
    {
      "cell_type": "markdown",
      "metadata": {
        "id": "o2j_9dfKmz56",
        "colab_type": "text"
      },
      "source": [
        "<img src=\"https://cdn-images-1.medium.com/max/800/1*c2Wbf0ogAMz95AwFnLGYdw.png\">"
      ]
    },
    {
      "cell_type": "markdown",
      "metadata": {
        "id": "wLcCFiRZm5Ah",
        "colab_type": "text"
      },
      "source": [
        "<img src=\"https://cdn-images-1.medium.com/max/800/1*7KjFTkEGGuBIVkB43h_fOg.png\">"
      ]
    },
    {
      "cell_type": "code",
      "metadata": {
        "id": "keDB9veVYUaM",
        "colab_type": "code",
        "colab": {
          "base_uri": "https://localhost:8080/",
          "height": 884
        },
        "outputId": "073bd0eb-0678-486f-d7df-b3046dc536c1"
      },
      "source": [
        "# Numpy\n",
        "a = np.zeros((3,3))\n",
        "print(a, a.shape, a.dtype)\n",
        "print()\n",
        "a = np.ones((3,3))\n",
        "print(a, a.shape, a.dtype)\n",
        "print()\n",
        "a = np.eye(3)\n",
        "print(a, a.shape, a.dtype)\n",
        "print()\n",
        "a = np.full((3,3),10.0)\n",
        "print(a, a.shape, a.dtype)\n",
        "print()\n",
        "\n",
        "# Tensorflow\n",
        "b = tf.zeros((3,3))\n",
        "print(b)\n",
        "print()\n",
        "b = tf.ones((3,3))\n",
        "print(b)\n",
        "print()\n",
        "b = tf.eye(3)\n",
        "print(b)\n",
        "print()\n",
        "b = tf.fill([3,3], 10)\n",
        "print(b)\n",
        "print()\n",
        "\n",
        "# Torch\n",
        "c = torch.zeros((3,3))\n",
        "print(c)\n",
        "print()\n",
        "c = torch.ones((3,3))\n",
        "print(c)\n",
        "print()\n",
        "c = torch.eye(3)\n",
        "print(c)\n",
        "print()\n",
        "c = c.new_full([3,3], 10)\n",
        "print(c)"
      ],
      "execution_count": 4,
      "outputs": [
        {
          "output_type": "stream",
          "text": [
            "[[0. 0. 0.]\n",
            " [0. 0. 0.]\n",
            " [0. 0. 0.]] (3, 3) float64\n",
            "\n",
            "[[1. 1. 1.]\n",
            " [1. 1. 1.]\n",
            " [1. 1. 1.]] (3, 3) float64\n",
            "\n",
            "[[1. 0. 0.]\n",
            " [0. 1. 0.]\n",
            " [0. 0. 1.]] (3, 3) float64\n",
            "\n",
            "[[10. 10. 10.]\n",
            " [10. 10. 10.]\n",
            " [10. 10. 10.]] (3, 3) float64\n",
            "\n",
            "tf.Tensor(\n",
            "[[0. 0. 0.]\n",
            " [0. 0. 0.]\n",
            " [0. 0. 0.]], shape=(3, 3), dtype=float32)\n",
            "\n",
            "tf.Tensor(\n",
            "[[1. 1. 1.]\n",
            " [1. 1. 1.]\n",
            " [1. 1. 1.]], shape=(3, 3), dtype=float32)\n",
            "\n",
            "tf.Tensor(\n",
            "[[1. 0. 0.]\n",
            " [0. 1. 0.]\n",
            " [0. 0. 1.]], shape=(3, 3), dtype=float32)\n",
            "\n",
            "tf.Tensor(\n",
            "[[10 10 10]\n",
            " [10 10 10]\n",
            " [10 10 10]], shape=(3, 3), dtype=int32)\n",
            "\n",
            "tensor([[0., 0., 0.],\n",
            "        [0., 0., 0.],\n",
            "        [0., 0., 0.]])\n",
            "\n",
            "tensor([[1., 1., 1.],\n",
            "        [1., 1., 1.],\n",
            "        [1., 1., 1.]])\n",
            "\n",
            "tensor([[1., 0., 0.],\n",
            "        [0., 1., 0.],\n",
            "        [0., 0., 1.]])\n",
            "\n",
            "tensor([[10., 10., 10.],\n",
            "        [10., 10., 10.],\n",
            "        [10., 10., 10.]])\n"
          ],
          "name": "stdout"
        }
      ]
    },
    {
      "cell_type": "markdown",
      "metadata": {
        "id": "3P5NtRVHbysY",
        "colab_type": "text"
      },
      "source": [
        "# Draw random samples from normal distribution"
      ]
    },
    {
      "cell_type": "markdown",
      "metadata": {
        "id": "njY9qDXYnMxU",
        "colab_type": "text"
      },
      "source": [
        "<img src=\"https://cdn-images-1.medium.com/max/800/1*oroDC_aX76_G2V1zLV2DMQ.png\">\n",
        "<img src=\"https://cdn-images-1.medium.com/max/800/1*y3WMACw6HHqEAa-GG3cTdg.png\">"
      ]
    },
    {
      "cell_type": "code",
      "metadata": {
        "id": "khHCjc3rYuGY",
        "colab_type": "code",
        "colab": {
          "base_uri": "https://localhost:8080/",
          "height": 323
        },
        "outputId": "a2f0b943-482e-44c4-c749-d7c4e45a5272"
      },
      "source": [
        "# Numpy\n",
        "a = np.random.randn(3,3) \n",
        "print(a, a.shape, a.dtype)\n",
        "print()\n",
        "print(a.mean(), a.std())\n",
        "print()\n",
        "\n",
        "# Tensorflow\n",
        "b = tf.random.normal((3,3),mean=0, stddev=1)\n",
        "print(b)\n",
        "print()\n",
        "print(tf.reduce_mean(b), tf.math.reduce_std(b))\n",
        "print()\n",
        "\n",
        "# Torch\n",
        "c = torch.normal(mean=0, std=1, size=(3, 3))\n",
        "print(c)\n",
        "print()\n",
        "print(torch.mean(c), torch.std(c))"
      ],
      "execution_count": 5,
      "outputs": [
        {
          "output_type": "stream",
          "text": [
            "[[-1.20474245  1.25303384 -0.36200896]\n",
            " [-1.65897476 -1.1378095  -1.27773511]\n",
            " [ 0.51973366 -0.51946521 -0.17489349]] (3, 3) float64\n",
            "\n",
            "-0.5069846651973171 0.8875194677697864\n",
            "\n",
            "tf.Tensor(\n",
            "[[ 0.17814717 -0.80806047 -1.0725795 ]\n",
            " [ 1.3025515  -0.31631804 -0.10141616]\n",
            " [ 0.8401105   0.5194414  -0.97950065]], shape=(3, 3), dtype=float32)\n",
            "\n",
            "tf.Tensor(-0.048624925, shape=(), dtype=float32) tf.Tensor(0.7856954, shape=(), dtype=float32)\n",
            "\n",
            "tensor([[ 0.0978,  0.6083, -2.0741],\n",
            "        [ 0.8155,  0.9387,  0.9400],\n",
            "        [-0.2676,  0.0736,  0.0464]])\n",
            "\n",
            "tensor(0.1309) tensor(0.9378)\n"
          ],
          "name": "stdout"
        }
      ]
    },
    {
      "cell_type": "markdown",
      "metadata": {
        "id": "Xgp0tf9ZcmVw",
        "colab_type": "text"
      },
      "source": [
        "# Draw samples from uniform distribution\n",
        "\n",
        "\n"
      ]
    },
    {
      "cell_type": "markdown",
      "metadata": {
        "id": "5W6pLE04nXQj",
        "colab_type": "text"
      },
      "source": [
        "<img src=\"https://cdn-images-1.medium.com/max/800/1*2aX6VCmTOk5_ojoVLTIVxw.png\">\n",
        "<img src=\"https://cdn-images-1.medium.com/max/800/1*vIcJ7bQLJw4vxQnuGkhBJA.png\">"
      ]
    },
    {
      "cell_type": "code",
      "metadata": {
        "id": "yXSWma7BaDFX",
        "colab_type": "code",
        "colab": {
          "base_uri": "https://localhost:8080/",
          "height": 323
        },
        "outputId": "66e84ed8-b816-41e2-88e9-d73e183b161a"
      },
      "source": [
        "# Numpy\n",
        "a = np.random.uniform(low=0, high=1, size=(3,3)) \n",
        "print(a, a.shape, a.dtype)\n",
        "print()\n",
        "print(a.mean(), a.std())\n",
        "print()\n",
        "\n",
        "# Tensorflow\n",
        "b = tf.random.uniform((3,3), minval=0, maxval=1) # Values are always > 1\n",
        "print(b)\n",
        "print()\n",
        "print(tf.reduce_mean(b), tf.math.reduce_std(b))\n",
        "print()\n",
        "\n",
        "# Torch\n",
        "num_samples = 3\n",
        "Dim = 3\n",
        "c = torch.distributions.Uniform(0, +1).sample((num_samples, Dim))\n",
        "print(c)\n",
        "print()\n",
        "print(torch.mean(c), torch.std(c))"
      ],
      "execution_count": 6,
      "outputs": [
        {
          "output_type": "stream",
          "text": [
            "[[0.90653086 0.71057116 0.72106348]\n",
            " [0.78497642 0.53240642 0.17899947]\n",
            " [0.63256464 0.21923118 0.2134137 ]] (3, 3) float64\n",
            "\n",
            "0.5444174816147332 0.2591781239141793\n",
            "\n",
            "tf.Tensor(\n",
            "[[0.53188646 0.15539944 0.8736414 ]\n",
            " [0.02195573 0.77950466 0.15615916]\n",
            " [0.36707568 0.5003065  0.5270417 ]], shape=(3, 3), dtype=float32)\n",
            "\n",
            "tf.Tensor(0.43477452, shape=(), dtype=float32) tf.Tensor(0.27169445, shape=(), dtype=float32)\n",
            "\n",
            "tensor([[0.0344, 0.8858, 0.3127],\n",
            "        [0.7995, 0.8993, 0.5918],\n",
            "        [0.5000, 0.2346, 0.6114]])\n",
            "\n",
            "tensor(0.5411) tensor(0.3012)\n"
          ],
          "name": "stdout"
        }
      ]
    },
    {
      "cell_type": "markdown",
      "metadata": {
        "id": "aH3duh1bcy5V",
        "colab_type": "text"
      },
      "source": [
        "# Arrangements"
      ]
    },
    {
      "cell_type": "markdown",
      "metadata": {
        "id": "AccYgI_znfD_",
        "colab_type": "text"
      },
      "source": [
        "<img src=\"https://cdn-images-1.medium.com/max/800/1*UnnY3jEq8qM1dXbD8US8Uw.png\">"
      ]
    },
    {
      "cell_type": "code",
      "metadata": {
        "id": "yLKGBIyFaccw",
        "colab_type": "code",
        "colab": {
          "base_uri": "https://localhost:8080/",
          "height": 204
        },
        "outputId": "6996ae45-fcd8-4e4a-8a18-53a674f13ab8"
      },
      "source": [
        "# Numpy\n",
        "a = np.arange(0,9)\n",
        "print(a)\n",
        "print()\n",
        "a = np.arange(start=1, stop=20, step=2, dtype=np.float32)\n",
        "print(a, a.dtype)\n",
        "print()\n",
        "\n",
        "# Tensorflow\n",
        "b = tf.range(9)\n",
        "print(b)\n",
        "print()\n",
        "b = tf.range(start=1, limit=20, delta=2, dtype=tf.float64)\n",
        "print(b)\n",
        "print()\n",
        "\n",
        "# Torch\n",
        "c = torch.arange(start=0, end=9)\n",
        "print(c)\n",
        "print()\n",
        "c = torch.arange(start=1, end=20, step=2, dtype=torch.float64)\n",
        "print(c)\n"
      ],
      "execution_count": 7,
      "outputs": [
        {
          "output_type": "stream",
          "text": [
            "[0 1 2 3 4 5 6 7 8]\n",
            "\n",
            "[ 1.  3.  5.  7.  9. 11. 13. 15. 17. 19.] float32\n",
            "\n",
            "tf.Tensor([0 1 2 3 4 5 6 7 8], shape=(9,), dtype=int32)\n",
            "\n",
            "tf.Tensor([ 1.  3.  5.  7.  9. 11. 13. 15. 17. 19.], shape=(10,), dtype=float64)\n",
            "\n",
            "tensor([0, 1, 2, 3, 4, 5, 6, 7, 8])\n",
            "\n",
            "tensor([ 1.,  3.,  5.,  7.,  9., 11., 13., 15., 17., 19.], dtype=torch.float64)\n"
          ],
          "name": "stdout"
        }
      ]
    },
    {
      "cell_type": "markdown",
      "metadata": {
        "id": "WnSrIv-EdFjw",
        "colab_type": "text"
      },
      "source": [
        "# Type - Conversion"
      ]
    },
    {
      "cell_type": "code",
      "metadata": {
        "id": "eIifEYSea2m1",
        "colab_type": "code",
        "colab": {
          "base_uri": "https://localhost:8080/",
          "height": 156
        },
        "outputId": "b5637050-cafd-4fa1-a7fb-5ec4ef4134da"
      },
      "source": [
        "# Numpy\n",
        "a = a.astype(np.uint8)\n",
        "print(a, a.dtype)\n",
        "print()\n",
        "\n",
        "# Tensorflow\n",
        "b = tf.cast(b, dtype=tf.uint8)\n",
        "print(b)\n",
        "print()\n",
        "\n",
        "# Torch\n",
        "c = torch.tensor(c)\n",
        "c= c.type(torch.int64)\n",
        "print(c)"
      ],
      "execution_count": 8,
      "outputs": [
        {
          "output_type": "stream",
          "text": [
            "[ 1  3  5  7  9 11 13 15 17 19] uint8\n",
            "\n",
            "tf.Tensor([ 1  3  5  7  9 11 13 15 17 19], shape=(10,), dtype=uint8)\n",
            "\n",
            "tensor([ 1,  3,  5,  7,  9, 11, 13, 15, 17, 19])\n"
          ],
          "name": "stdout"
        },
        {
          "output_type": "stream",
          "text": [
            "/usr/local/lib/python3.6/dist-packages/ipykernel_launcher.py:12: UserWarning: To copy construct from a tensor, it is recommended to use sourceTensor.clone().detach() or sourceTensor.clone().detach().requires_grad_(True), rather than torch.tensor(sourceTensor).\n",
            "  if sys.path[0] == '':\n"
          ],
          "name": "stderr"
        }
      ]
    },
    {
      "cell_type": "markdown",
      "metadata": {
        "id": "AYrtmYGrQjbJ",
        "colab_type": "text"
      },
      "source": [
        "# Math Operations"
      ]
    },
    {
      "cell_type": "markdown",
      "metadata": {
        "id": "x6KgV25TnmdY",
        "colab_type": "text"
      },
      "source": [
        "<img src=\"https://cdn-images-1.medium.com/max/1200/1*9kVr15tL5ahesHZ0myh-uQ.png\">\n",
        "<img src=\"https://cdn-images-1.medium.com/max/800/1*PtEYTcCsJJzMOBXrFQmLuQ.png\">\n",
        "<img src=\"https://cdn-images-1.medium.com/max/1200/1*94Zw_BDp1fufWCd7_-qeVg.png\">\n",
        "<img src=\"https://cdn-images-1.medium.com/max/800/1*a29LnvI0cgn0gzaP1kPZ6Q.png\">"
      ]
    },
    {
      "cell_type": "code",
      "metadata": {
        "id": "Kx5hHqd3bG2H",
        "colab_type": "code",
        "colab": {
          "base_uri": "https://localhost:8080/",
          "height": 510
        },
        "outputId": "54e90c93-2973-4384-e5e9-b4587bd2cf34"
      },
      "source": [
        "# Numpy\n",
        "a = np.array([1,2,3,4,5])\n",
        "b = np.array([6,7,8,9,10])\n",
        "c = np.add(a, b) # x + y\n",
        "print(c, c.dtype)\n",
        "print()\n",
        "c = np.subtract(b,a) # y - x\n",
        "print(c, c.dtype)\n",
        "print()\n",
        "c = np.divide(b,a) # y / x\n",
        "print(c, c.dtype)\n",
        "print()\n",
        "c = np.multiply(b,a) # y * x\n",
        "print(c, c.dtype)\n",
        "print()\n",
        "c = (a **2)\n",
        "print(c)\n",
        "print()\n",
        "\n",
        "# Tensorflow\n",
        "x = tf.constant([1,2,3,4,5])\n",
        "y = tf.constant([6,7,8,9,10])\n",
        "z = tf.add(x,y) # x + y\n",
        "print(z)\n",
        "print()\n",
        "z = tf.subtract(y,x) # y - x\n",
        "print(z)\n",
        "print()\n",
        "z = tf.divide(y,x) # y / x\n",
        "print(z)\n",
        "print()\n",
        "z = tf.multiply(y,x) # y * x\n",
        "print(z)\n",
        "print()\n",
        "z = (x **2)\n",
        "print(z)\n",
        "print()\n",
        "\n",
        "# Torch\n",
        "t = torch.tensor([1,2,3,4,5])\n",
        "u = torch.tensor([6,7,8,9,10])\n",
        "v = torch.add(t, u) # x + y\n",
        "print(v)\n",
        "print()\n",
        "v = torch.sub(u,t) # y - x\n",
        "print(v)\n",
        "print()\n",
        "v = torch.true_divide (u, t) # y / x\n",
        "print(v)\n",
        "print()\n",
        "v = torch.mul(u,t) # y * x\n",
        "print(v)\n",
        "print()\n",
        "v = (t **2)\n",
        "print(v)"
      ],
      "execution_count": 9,
      "outputs": [
        {
          "output_type": "stream",
          "text": [
            "[ 7  9 11 13 15] int64\n",
            "\n",
            "[5 5 5 5 5] int64\n",
            "\n",
            "[6.         3.5        2.66666667 2.25       2.        ] float64\n",
            "\n",
            "[ 6 14 24 36 50] int64\n",
            "\n",
            "[ 1  4  9 16 25]\n",
            "\n",
            "tf.Tensor([ 7  9 11 13 15], shape=(5,), dtype=int32)\n",
            "\n",
            "tf.Tensor([5 5 5 5 5], shape=(5,), dtype=int32)\n",
            "\n",
            "tf.Tensor([6.         3.5        2.66666667 2.25       2.        ], shape=(5,), dtype=float64)\n",
            "\n",
            "tf.Tensor([ 6 14 24 36 50], shape=(5,), dtype=int32)\n",
            "\n",
            "tf.Tensor([ 1  4  9 16 25], shape=(5,), dtype=int32)\n",
            "\n",
            "tensor([ 7,  9, 11, 13, 15])\n",
            "\n",
            "tensor([5, 5, 5, 5, 5])\n",
            "\n",
            "tensor([6.0000, 3.5000, 2.6667, 2.2500, 2.0000])\n",
            "\n",
            "tensor([ 6, 14, 24, 36, 50])\n",
            "\n",
            "tensor([ 1,  4,  9, 16, 25])\n"
          ],
          "name": "stdout"
        }
      ]
    },
    {
      "cell_type": "markdown",
      "metadata": {
        "id": "5Tp1A4_Ddved",
        "colab_type": "text"
      },
      "source": [
        "# Dot Product"
      ]
    },
    {
      "cell_type": "markdown",
      "metadata": {
        "id": "8o7KgHmBnyuU",
        "colab_type": "text"
      },
      "source": [
        "<img src=\"https://cdn-images-1.medium.com/max/800/1*Zyiav4DHpJRE52diaLmgQA.png\">"
      ]
    },
    {
      "cell_type": "code",
      "metadata": {
        "id": "M20Kuf0TQy-l",
        "colab_type": "code",
        "colab": {
          "base_uri": "https://localhost:8080/",
          "height": 102
        },
        "outputId": "697b17fc-0719-4194-a7d6-dbb9a1ab8435"
      },
      "source": [
        "# Numpy\n",
        "a = np.array([1,2,3,4,5])\n",
        "b = np.array([6,7,8,9,10])\n",
        "c = np.dot(a, b) # x + y\n",
        "print(c, c.dtype)\n",
        "print()\n",
        "\n",
        "# Tensorflow\n",
        "x = tf.constant([1,2,3,4,5])\n",
        "y = tf.constant([6,7,8,9,10])\n",
        "z = tf.tensordot(x,y, axes=1)\n",
        "print(z)\n",
        "print()\n",
        "\n",
        "# Torch\n",
        "t = torch.tensor([1,2,3,4,5])\n",
        "u = torch.tensor([6,7,8,9,10])\n",
        "v = torch.dot(t,u)\n",
        "print(v)"
      ],
      "execution_count": 10,
      "outputs": [
        {
          "output_type": "stream",
          "text": [
            "130 int64\n",
            "\n",
            "tf.Tensor(130, shape=(), dtype=int32)\n",
            "\n",
            "tensor(130)\n"
          ],
          "name": "stdout"
        }
      ]
    },
    {
      "cell_type": "markdown",
      "metadata": {
        "id": "Ka9b8e_Cn3a_",
        "colab_type": "text"
      },
      "source": [
        "<img src=\"https://cdn-images-1.medium.com/max/800/1*5D1UKW0bLcaQ3ZUN7sx3uA.png\">"
      ]
    },
    {
      "cell_type": "code",
      "metadata": {
        "id": "POi2Q7b-Rb2H",
        "colab_type": "code",
        "colab": {
          "base_uri": "https://localhost:8080/",
          "height": 170
        },
        "outputId": "ec86887c-40c7-45c2-f0a3-daebc235657c"
      },
      "source": [
        "# Numpy\n",
        "a = np.array([[1,2,3], [4,5,6]])\n",
        "b = np.array([[1,2,3], [4,5,6], [7,8,9]])\n",
        "c = np.matmul(a,b) # (2,3) @ (3,3) --> (2,3) output shape\n",
        "print(c)\n",
        "print()\n",
        "\n",
        "# Tensorflow\n",
        "x = tf.constant([[1,2,3], [4,5,6]])\n",
        "y = tf.constant([[1,2,3], [4,5,6], [7,8,9]])\n",
        "z = tf.matmul(x,y) # (2,3) @ (3,3) --> (2,3) output shape\n",
        "print(z)\n",
        "print()\n",
        "\n",
        "# Torch\n",
        "t = torch.tensor([[1,2,3], [4,5,6]])\n",
        "u = torch.tensor([[1,2,3], [4,5,6], [7,8,9]])\n",
        "v = torch.matmul(t,u) # (2,3) @ (3,3) --> (2,3) output shape\n",
        "print(v)"
      ],
      "execution_count": 11,
      "outputs": [
        {
          "output_type": "stream",
          "text": [
            "[[30 36 42]\n",
            " [66 81 96]]\n",
            "\n",
            "tf.Tensor(\n",
            "[[30 36 42]\n",
            " [66 81 96]], shape=(2, 3), dtype=int32)\n",
            "\n",
            "tensor([[30, 36, 42],\n",
            "        [66, 81, 96]])\n"
          ],
          "name": "stdout"
        }
      ]
    },
    {
      "cell_type": "markdown",
      "metadata": {
        "id": "SmcYJBBgSYXo",
        "colab_type": "text"
      },
      "source": [
        "# Indexing and Slicing"
      ]
    },
    {
      "cell_type": "markdown",
      "metadata": {
        "id": "HV5xb9B1n8xY",
        "colab_type": "text"
      },
      "source": [
        "<img src=\"https://cdn-images-1.medium.com/max/800/1*Nmg32Jhd5XMxy1gZULd46A.png\">"
      ]
    },
    {
      "cell_type": "code",
      "metadata": {
        "id": "-9l-lPYBR1v_",
        "colab_type": "code",
        "colab": {
          "base_uri": "https://localhost:8080/",
          "height": 255
        },
        "outputId": "3c463843-38cd-4244-e541-72954d316dc6"
      },
      "source": [
        "# Numpy\n",
        "a = np.array([1,2,3,4,5,6,7,8])\n",
        "print(a[:])\n",
        "print(a[2:-3])\n",
        "print(a[3:-1])\n",
        "print(a[::2])\n",
        "print()\n",
        "\n",
        "# Tensorflow\n",
        "b = tf.constant([1,2,3,4,5,6,7,8])\n",
        "print(b[:])\n",
        "print(b[2:-3])\n",
        "print(b[3:-1])\n",
        "print(b[::2])\n",
        "print()\n",
        "\n",
        "# Torch\n",
        "c = torch.tensor([1,2,3,4,5,6,7,8])\n",
        "print(c[:])\n",
        "print(c[2:-3])\n",
        "print(c[3:-1])\n",
        "print(c[::2])"
      ],
      "execution_count": 12,
      "outputs": [
        {
          "output_type": "stream",
          "text": [
            "[1 2 3 4 5 6 7 8]\n",
            "[3 4 5]\n",
            "[4 5 6 7]\n",
            "[1 3 5 7]\n",
            "\n",
            "tf.Tensor([1 2 3 4 5 6 7 8], shape=(8,), dtype=int32)\n",
            "tf.Tensor([3 4 5], shape=(3,), dtype=int32)\n",
            "tf.Tensor([4 5 6 7], shape=(4,), dtype=int32)\n",
            "tf.Tensor([1 3 5 7], shape=(4,), dtype=int32)\n",
            "\n",
            "tensor([1, 2, 3, 4, 5, 6, 7, 8])\n",
            "tensor([3, 4, 5])\n",
            "tensor([4, 5, 6, 7])\n",
            "tensor([1, 3, 5, 7])\n"
          ],
          "name": "stdout"
        }
      ]
    },
    {
      "cell_type": "code",
      "metadata": {
        "id": "1K26KzoySjFY",
        "colab_type": "code",
        "colab": {
          "base_uri": "https://localhost:8080/",
          "height": 102
        },
        "outputId": "ff48a3fc-3798-4e58-9567-ea34dd073f7c"
      },
      "source": [
        "# Numpy\n",
        "indices = np.array([0,3,5])\n",
        "x_indices = a[indices]\n",
        "print(x_indices)\n",
        "print()\n",
        "\n",
        "# Tensorflow\n",
        "indices = tf.constant([0,3,5])\n",
        "x_indices = tf.gather(b, indices)\n",
        "print(x_indices)\n",
        "print()\n",
        "\n",
        "# Torch\n",
        "indices = torch.tensor([0,3,5])\n",
        "x_indices = c[indices]\n",
        "print(x_indices)"
      ],
      "execution_count": 13,
      "outputs": [
        {
          "output_type": "stream",
          "text": [
            "[1 4 6]\n",
            "\n",
            "tf.Tensor([1 4 6], shape=(3,), dtype=int32)\n",
            "\n",
            "tensor([1, 4, 6])\n"
          ],
          "name": "stdout"
        }
      ]
    },
    {
      "cell_type": "markdown",
      "metadata": {
        "id": "eWbkxJOxoAgt",
        "colab_type": "text"
      },
      "source": [
        "<img src=\"https://cdn-images-1.medium.com/max/800/1*lgCTWIny8nGCxPNFjWMIPA.png\">"
      ]
    },
    {
      "cell_type": "code",
      "metadata": {
        "id": "FItk4zRjTDlh",
        "colab_type": "code",
        "colab": {
          "base_uri": "https://localhost:8080/",
          "height": 952
        },
        "outputId": "02908dcb-cc19-4a68-f4c7-e3225012ad2d"
      },
      "source": [
        "# Numpy\n",
        "a = np.array([[1,2,3],\n",
        "              [4,5,6],\n",
        "              [7,8,9]])\n",
        "\n",
        "# Matrix Indexing\n",
        "# Print all individual Rows and Columns\n",
        "print(\"Row-1\",a[0, :])\n",
        "print(\"Row-2\",a[1, :])\n",
        "print(\"Row-3\",a[2, :])\n",
        "print()\n",
        "print(\"Col-1\",a[:, 0])\n",
        "print(\"Col-2\",a[:, 1])\n",
        "print(\"Col-3\",a[:, 2])\n",
        "print()\n",
        "\n",
        "# Print the sub-diagonal matrix\n",
        "print(\"Upper-Left\",a[0:2,0:2])\n",
        "print(\"Upper-Right\",a[0:2,1:3])\n",
        "print()\n",
        "print(\"Bottom-Left\",a[1:3,0:2])\n",
        "print(\"Bottom-Right\",a[1:3,1:3])\n",
        "\n",
        "\n",
        "# Tensorflow\n",
        "b = tf.constant([[1,2,3],\n",
        "                 [4,5,6],\n",
        "                 [7,8,9]])\n",
        "\n",
        "# Matrix Indexing\n",
        "# Print all individual Rows and Columns\n",
        "print(\"Row-1\",b[0, :])\n",
        "print(\"Row-2\",b[1, :])\n",
        "print(\"Row-3\",b[2, :])\n",
        "print()\n",
        "print(\"Col-1\",b[:, 0])\n",
        "print(\"Col-2\",b[:, 1])\n",
        "print(\"Col-3\",b[:, 2])\n",
        "print()\n",
        "\n",
        "# Print the sub-diagonal matrix\n",
        "print(\"Upper-Left\",b[0:2,0:2])\n",
        "print(\"Upper-Right\",b[0:2,1:3])\n",
        "print()\n",
        "print(\"Bottom-Left\",b[1:3,0:2])\n",
        "print(\"Bottom-Right\",b[1:3,1:3])\n",
        "\n",
        "# Torch\n",
        "c = torch.tensor([[1,2,3],\n",
        "                 [4,5,6],\n",
        "                 [7,8,9]])\n",
        "\n",
        "# Matrix Indexing\n",
        "# Print all individual Rows and Columns\n",
        "print(\"Row-1\",c[0, :])\n",
        "print(\"Row-2\",c[1, :])\n",
        "print(\"Row-3\",c[2, :])\n",
        "print()\n",
        "print(\"Col-1\",c[:, 0])\n",
        "print(\"Col-2\",c[:, 1])\n",
        "print(\"Col-3\",c[:, 2])\n",
        "print()\n",
        "\n",
        "# Print the sub-diagonal matrix\n",
        "print(\"Upper-Left\",c[0:2,0:2])\n",
        "print(\"Upper-Right\",c[0:2,1:3])\n",
        "print()\n",
        "print(\"Bottom-Left\",c[1:3,0:2])\n",
        "print(\"Bottom-Right\",c[1:3,1:3])"
      ],
      "execution_count": 14,
      "outputs": [
        {
          "output_type": "stream",
          "text": [
            "Row-1 [1 2 3]\n",
            "Row-2 [4 5 6]\n",
            "Row-3 [7 8 9]\n",
            "\n",
            "Col-1 [1 4 7]\n",
            "Col-2 [2 5 8]\n",
            "Col-3 [3 6 9]\n",
            "\n",
            "Upper-Left [[1 2]\n",
            " [4 5]]\n",
            "Upper-Right [[2 3]\n",
            " [5 6]]\n",
            "\n",
            "Bottom-Left [[4 5]\n",
            " [7 8]]\n",
            "Bottom-Right [[5 6]\n",
            " [8 9]]\n",
            "Row-1 tf.Tensor([1 2 3], shape=(3,), dtype=int32)\n",
            "Row-2 tf.Tensor([4 5 6], shape=(3,), dtype=int32)\n",
            "Row-3 tf.Tensor([7 8 9], shape=(3,), dtype=int32)\n",
            "\n",
            "Col-1 tf.Tensor([1 4 7], shape=(3,), dtype=int32)\n",
            "Col-2 tf.Tensor([2 5 8], shape=(3,), dtype=int32)\n",
            "Col-3 tf.Tensor([3 6 9], shape=(3,), dtype=int32)\n",
            "\n",
            "Upper-Left tf.Tensor(\n",
            "[[1 2]\n",
            " [4 5]], shape=(2, 2), dtype=int32)\n",
            "Upper-Right tf.Tensor(\n",
            "[[2 3]\n",
            " [5 6]], shape=(2, 2), dtype=int32)\n",
            "\n",
            "Bottom-Left tf.Tensor(\n",
            "[[4 5]\n",
            " [7 8]], shape=(2, 2), dtype=int32)\n",
            "Bottom-Right tf.Tensor(\n",
            "[[5 6]\n",
            " [8 9]], shape=(2, 2), dtype=int32)\n",
            "Row-1 tensor([1, 2, 3])\n",
            "Row-2 tensor([4, 5, 6])\n",
            "Row-3 tensor([7, 8, 9])\n",
            "\n",
            "Col-1 tensor([1, 4, 7])\n",
            "Col-2 tensor([2, 5, 8])\n",
            "Col-3 tensor([3, 6, 9])\n",
            "\n",
            "Upper-Left tensor([[1, 2],\n",
            "        [4, 5]])\n",
            "Upper-Right tensor([[2, 3],\n",
            "        [5, 6]])\n",
            "\n",
            "Bottom-Left tensor([[4, 5],\n",
            "        [7, 8]])\n",
            "Bottom-Right tensor([[5, 6],\n",
            "        [8, 9]])\n"
          ],
          "name": "stdout"
        }
      ]
    },
    {
      "cell_type": "markdown",
      "metadata": {
        "id": "Nu_VTm97VEDH",
        "colab_type": "text"
      },
      "source": [
        "# Reshaping"
      ]
    },
    {
      "cell_type": "markdown",
      "metadata": {
        "id": "XLKWqX6ZoE9G",
        "colab_type": "text"
      },
      "source": [
        "<img src=\"https://cdn-images-1.medium.com/max/800/1*CY6ulUvaIpBpefZL3aJj8w.png\">"
      ]
    },
    {
      "cell_type": "code",
      "metadata": {
        "id": "8L1WdxyCTqTJ",
        "colab_type": "code",
        "colab": {
          "base_uri": "https://localhost:8080/",
          "height": 442
        },
        "outputId": "fdef43e8-09f7-4a17-9cdd-284c0e40dcf4"
      },
      "source": [
        "# Numpy\n",
        "a = np.arange(9)\n",
        "print(a)\n",
        "a = np.reshape(a, (3,3))\n",
        "print(a)\n",
        "a = np.transpose(a, (1,0)) # Swap axes (1,0), use (0,1) nothing happens\n",
        "print(a)\n",
        "print()\n",
        "\n",
        "# Tensorflow\n",
        "b = tf.range(9)\n",
        "print(b)\n",
        "b = tf.reshape(b, (3,3))\n",
        "print(b)\n",
        "b = tf.transpose(b, perm=[1,0]) # Swap axes in perm (1,0), use (0,1) nothing happens\n",
        "print(b)\n",
        "print()\n",
        "\n",
        "# Torch\n",
        "c = torch.arange(9)\n",
        "print(c)\n",
        "c = torch.reshape(c, (3,3))\n",
        "print(c)\n",
        "c = c.permute(1,0) # Swap axes in perm (1,0), use (0,1) nothing happens\n",
        "print(c)"
      ],
      "execution_count": 15,
      "outputs": [
        {
          "output_type": "stream",
          "text": [
            "[0 1 2 3 4 5 6 7 8]\n",
            "[[0 1 2]\n",
            " [3 4 5]\n",
            " [6 7 8]]\n",
            "[[0 3 6]\n",
            " [1 4 7]\n",
            " [2 5 8]]\n",
            "\n",
            "tf.Tensor([0 1 2 3 4 5 6 7 8], shape=(9,), dtype=int32)\n",
            "tf.Tensor(\n",
            "[[0 1 2]\n",
            " [3 4 5]\n",
            " [6 7 8]], shape=(3, 3), dtype=int32)\n",
            "tf.Tensor(\n",
            "[[0 3 6]\n",
            " [1 4 7]\n",
            " [2 5 8]], shape=(3, 3), dtype=int32)\n",
            "\n",
            "tensor([0, 1, 2, 3, 4, 5, 6, 7, 8])\n",
            "tensor([[0, 1, 2],\n",
            "        [3, 4, 5],\n",
            "        [6, 7, 8]])\n",
            "tensor([[0, 3, 6],\n",
            "        [1, 4, 7],\n",
            "        [2, 5, 8]])\n"
          ],
          "name": "stdout"
        }
      ]
    },
    {
      "cell_type": "markdown",
      "metadata": {
        "id": "zyPtNljjiZkM",
        "colab_type": "text"
      },
      "source": [
        "# Concatenation"
      ]
    },
    {
      "cell_type": "markdown",
      "metadata": {
        "id": "47pOT3d1oJho",
        "colab_type": "text"
      },
      "source": [
        "<img src=\"https://cdn-images-1.medium.com/max/800/1*rJjgnsdb9AOfGUuxDRhaqA.png\">"
      ]
    },
    {
      "cell_type": "code",
      "metadata": {
        "id": "K65bnUYkVN9Q",
        "colab_type": "code",
        "colab": {
          "base_uri": "https://localhost:8080/",
          "height": 765
        },
        "outputId": "2bfcd9fa-ff8e-428a-f85c-272af411f03b"
      },
      "source": [
        "# Numpy\n",
        "a = np.array([[1, 2], [3, 4]])\n",
        "print(\"a\",a)\n",
        "b = np.array([[5, 6]])\n",
        "print(\"b\",b)\n",
        "print()\n",
        "d = np.concatenate((a, b), axis=0)\n",
        "print(\"Concat (axis=0 - Row)\")\n",
        "print(d)\n",
        "print()\n",
        "e = np.concatenate((a, b.T), axis=1)\n",
        "print(\"Concat (axis=1 - Column)\")\n",
        "print(e)\n",
        "print()\n",
        "print()\n",
        "\n",
        "# Tensorflow\n",
        "x = tf.constant([[1, 2], [3, 4]])\n",
        "print(\"x\",x)\n",
        "y = tf.constant([[5, 6]])\n",
        "print(\"y\",y)\n",
        "print()\n",
        "z = tf.concat((x, y), axis=0)\n",
        "print(\"Concat (axis=0 - Row)\")\n",
        "print(z)\n",
        "print()\n",
        "z = tf.concat((x, tf.transpose(y)), axis=1)\n",
        "print(\"Concat (axis=1 - Column)\")\n",
        "print(z)\n",
        "print()\n",
        "print()\n",
        "\n",
        "# Torch\n",
        "t = torch.tensor([[1, 2], [3, 4]])\n",
        "print(\"x\",t)\n",
        "u = torch.tensor([[5, 6]])\n",
        "print(\"y\",u)\n",
        "print()\n",
        "v = torch.cat((t , u), axis=0)\n",
        "print(\"Concat (axis=0 - Row)\")\n",
        "print(v)\n",
        "print()\n",
        "v = torch.cat((t , u.T), axis=1)\n",
        "print(\"Concat (axis=1 - Column)\")\n",
        "print(v)\n",
        "print()\n"
      ],
      "execution_count": 16,
      "outputs": [
        {
          "output_type": "stream",
          "text": [
            "a [[1 2]\n",
            " [3 4]]\n",
            "b [[5 6]]\n",
            "\n",
            "Concat (axis=0 - Row)\n",
            "[[1 2]\n",
            " [3 4]\n",
            " [5 6]]\n",
            "\n",
            "Concat (axis=1 - Column)\n",
            "[[1 2 5]\n",
            " [3 4 6]]\n",
            "\n",
            "\n",
            "x tf.Tensor(\n",
            "[[1 2]\n",
            " [3 4]], shape=(2, 2), dtype=int32)\n",
            "y tf.Tensor([[5 6]], shape=(1, 2), dtype=int32)\n",
            "\n",
            "Concat (axis=0 - Row)\n",
            "tf.Tensor(\n",
            "[[1 2]\n",
            " [3 4]\n",
            " [5 6]], shape=(3, 2), dtype=int32)\n",
            "\n",
            "Concat (axis=1 - Column)\n",
            "tf.Tensor(\n",
            "[[1 2 5]\n",
            " [3 4 6]], shape=(2, 3), dtype=int32)\n",
            "\n",
            "\n",
            "x tensor([[1, 2],\n",
            "        [3, 4]])\n",
            "y tensor([[5, 6]])\n",
            "\n",
            "Concat (axis=0 - Row)\n",
            "tensor([[1, 2],\n",
            "        [3, 4],\n",
            "        [5, 6]])\n",
            "\n",
            "Concat (axis=1 - Column)\n",
            "tensor([[1, 2, 5],\n",
            "        [3, 4, 6]])\n",
            "\n"
          ],
          "name": "stdout"
        }
      ]
    },
    {
      "cell_type": "markdown",
      "metadata": {
        "id": "y0Do3JncoZ_I",
        "colab_type": "text"
      },
      "source": [
        "\n",
        "# Summing across every axis"
      ]
    },
    {
      "cell_type": "markdown",
      "metadata": {
        "id": "jDxsQ9looPQR",
        "colab_type": "text"
      },
      "source": [
        "<img src=\"https://cdn-images-1.medium.com/max/800/1*9tTRW07UAXAkE1aFKM0GGA.png\">"
      ]
    },
    {
      "cell_type": "code",
      "metadata": {
        "id": "333yoSr5nXk6",
        "colab_type": "code",
        "colab": {
          "base_uri": "https://localhost:8080/",
          "height": 391
        },
        "outputId": "c5a94af4-fde7-4145-a448-d5e2fbac54c2"
      },
      "source": [
        "# Numpy\n",
        "a = np.array([[1,2,3,4,5], [10,10,10,10,10]])\n",
        "print(a)\n",
        "print()\n",
        "print(\"Overall flattened Sum\", a.sum())\n",
        "print(\"Sum across Columns\",a.sum(axis=0)) \n",
        "print(\"Sum across Rows\",a.sum(axis=1))\n",
        "print()\n",
        "\n",
        "# Tensorflow\n",
        "b = tf.constant([[1,2,3,4,5], [10,10,10,10,10]])\n",
        "print(b)\n",
        "print()\n",
        "print(\"Overall flattened Sum\",tf.math.reduce_sum(b))\n",
        "print(\"Sum across Columns\",tf.math.reduce_sum(b, axis=0))\n",
        "print(\"Sum across Rows\",tf.math.reduce_sum(b, axis=1))\n",
        "print()\n",
        "\n",
        "# Torch\n",
        "c = torch.tensor([[1,2,3,4,5], [10,10,10,10,10]])\n",
        "print(c)\n",
        "print()\n",
        "print(\"Overall flattened  Sum\",torch.sum(c))\n",
        "print(\"Sum across Columns\",torch.sum(c, axis=0))\n",
        "print(\"Sum across Rows\",torch.sum(c, axis=1))\n",
        "print()"
      ],
      "execution_count": 17,
      "outputs": [
        {
          "output_type": "stream",
          "text": [
            "[[ 1  2  3  4  5]\n",
            " [10 10 10 10 10]]\n",
            "\n",
            "Overall flattened Sum 65\n",
            "Sum across Columns [11 12 13 14 15]\n",
            "Sum across Rows [15 50]\n",
            "\n",
            "tf.Tensor(\n",
            "[[ 1  2  3  4  5]\n",
            " [10 10 10 10 10]], shape=(2, 5), dtype=int32)\n",
            "\n",
            "Overall flattened Sum tf.Tensor(65, shape=(), dtype=int32)\n",
            "Sum across Columns tf.Tensor([11 12 13 14 15], shape=(5,), dtype=int32)\n",
            "Sum across Rows tf.Tensor([15 50], shape=(2,), dtype=int32)\n",
            "\n",
            "tensor([[ 1,  2,  3,  4,  5],\n",
            "        [10, 10, 10, 10, 10]])\n",
            "\n",
            "Overall flattened  Sum tensor(65)\n",
            "Sum across Columns tensor([11, 12, 13, 14, 15])\n",
            "Sum across Rows tensor([15, 50])\n",
            "\n"
          ],
          "name": "stdout"
        }
      ]
    },
    {
      "cell_type": "markdown",
      "metadata": {
        "id": "OqkfIKqHp-wK",
        "colab_type": "text"
      },
      "source": [
        "# Taking mean across every axis"
      ]
    },
    {
      "cell_type": "markdown",
      "metadata": {
        "id": "Czn4Z3q1oSQC",
        "colab_type": "text"
      },
      "source": [
        "<img src=\"https://cdn-images-1.medium.com/max/800/1*-mEa_EJExGYgu_nbNXnK5Q.png\">"
      ]
    },
    {
      "cell_type": "code",
      "metadata": {
        "id": "MNtOXuXjoo44",
        "colab_type": "code",
        "colab": {
          "base_uri": "https://localhost:8080/",
          "height": 374
        },
        "outputId": "7cd354f9-78f3-41cd-d5ba-4650afb10f80"
      },
      "source": [
        "# Numpy\n",
        "a = np.array([[1,2,3,4,5], [10,10,10,10,10]])\n",
        "print(a)\n",
        "print()\n",
        "print(\"Overall flattened mean\", a.mean())\n",
        "print(\"Sum across Columns\",a.mean(axis=0)) \n",
        "print(\"Sum across Rows\",a.mean(axis=1))\n",
        "print()\n",
        "\n",
        "# Tensorflow\n",
        "b = tf.constant([[1,2,3,4,5], [10,10,10,10,10]])\n",
        "print(b)\n",
        "print()\n",
        "print(\"Overall flattened mean\",tf.math.reduce_mean(b))\n",
        "print(\"Sum across Columns\",tf.math.reduce_mean(b, axis=0))\n",
        "print(\"Sum across Rows\",tf.math.reduce_mean(b, axis=1))\n",
        "print()\n",
        "\n",
        "# Torch\n",
        "c = torch.tensor([[1,2,3,4,5], [10,10,10,10,10]], dtype=torch.float32)\n",
        "print(c)\n",
        "print()\n",
        "print(\"Overall flattened mean\",torch.mean(c))\n",
        "print(\"Sum across Columns\",torch.mean(c, axis=0))\n",
        "print(\"Sum across Rows\",torch.mean(c, axis=1))"
      ],
      "execution_count": 18,
      "outputs": [
        {
          "output_type": "stream",
          "text": [
            "[[ 1  2  3  4  5]\n",
            " [10 10 10 10 10]]\n",
            "\n",
            "Overall flattened mean 6.5\n",
            "Sum across Columns [5.5 6.  6.5 7.  7.5]\n",
            "Sum across Rows [ 3. 10.]\n",
            "\n",
            "tf.Tensor(\n",
            "[[ 1  2  3  4  5]\n",
            " [10 10 10 10 10]], shape=(2, 5), dtype=int32)\n",
            "\n",
            "Overall flattened mean tf.Tensor(6, shape=(), dtype=int32)\n",
            "Sum across Columns tf.Tensor([5 6 6 7 7], shape=(5,), dtype=int32)\n",
            "Sum across Rows tf.Tensor([ 3 10], shape=(2,), dtype=int32)\n",
            "\n",
            "tensor([[ 1.,  2.,  3.,  4.,  5.],\n",
            "        [10., 10., 10., 10., 10.]])\n",
            "\n",
            "Overall flattened mean tensor(6.5000)\n",
            "Sum across Columns tensor([5.5000, 6.0000, 6.5000, 7.0000, 7.5000])\n",
            "Sum across Rows tensor([ 3., 10.])\n"
          ],
          "name": "stdout"
        }
      ]
    },
    {
      "cell_type": "markdown",
      "metadata": {
        "id": "MbBc4U73rEDp",
        "colab_type": "text"
      },
      "source": [
        "# Dimension Expansion & move dimension"
      ]
    },
    {
      "cell_type": "markdown",
      "metadata": {
        "id": "RHvy6EztoZIz",
        "colab_type": "text"
      },
      "source": [
        "<img src=\"https://cdn-images-1.medium.com/max/800/1*dbkaG5dXETNEiZRqyIdlQw.png\">"
      ]
    },
    {
      "cell_type": "code",
      "metadata": {
        "id": "BdhqARp6CZq6",
        "colab_type": "code",
        "colab": {
          "base_uri": "https://localhost:8080/",
          "height": 918
        },
        "outputId": "24cb68a6-ec20-4912-f163-f3a1856db953"
      },
      "source": [
        "# Numpy\n",
        "a = np.full((3,3),10.0)\n",
        "print(a)\n",
        "print(a.shape)\n",
        "a = np.expand_dims(a, axis=0)\n",
        "print(a)\n",
        "print(a.shape)\n",
        "b = np.full((3,3),20.0)\n",
        "print(b)\n",
        "b = np.expand_dims(b, axis=0)\n",
        "print(b.shape)\n",
        "c = np.concatenate((a,b), axis=0)\n",
        "c = np.moveaxis(c,2,0) # Move 2nd dimension to 0th position\n",
        "print(c)\n",
        "print(c.shape)\n",
        "print()\n",
        "\n",
        "# Tensorflow\n",
        "x = tf.fill((3,3),10.0)\n",
        "print(x)\n",
        "print(x.shape)\n",
        "x = tf.expand_dims(x, axis=0)\n",
        "print(x.shape)\n",
        "y = tf.fill((3,3),20.0)\n",
        "print(y)\n",
        "print(y.shape)\n",
        "y = tf.expand_dims(y, axis=0)\n",
        "print(y.shape)\n",
        "z = tf.concat((x,y), axis=0)\n",
        "z = tf.transpose(z, [1, 0, 2])\n",
        "print(z.shape)\n",
        "print()\n",
        "\n",
        "# Torch\n",
        "m1 = torch.ones((2,), dtype=torch.int32)\n",
        "m1 = m1.new_full((3, 3), 10)\n",
        "m1 = torch.unsqueeze(m1, axis=0)\n",
        "print(m1)\n",
        "print(m1.shape)\n",
        "m2 = torch.ones((2,), dtype=torch.int32)\n",
        "m2 = m2.new_full((3, 3), 20)\n",
        "print(m2)\n",
        "m2 = torch.unsqueeze(m2, axis=0)\n",
        "print(m2.shape)\n",
        "m = torch.cat((m1,m2), axis=0)\n",
        "m = m.permute([1,0,2])\n",
        "print(m)\n",
        "m.shape"
      ],
      "execution_count": 30,
      "outputs": [
        {
          "output_type": "stream",
          "text": [
            "[[10. 10. 10.]\n",
            " [10. 10. 10.]\n",
            " [10. 10. 10.]]\n",
            "(3, 3)\n",
            "[[[10. 10. 10.]\n",
            "  [10. 10. 10.]\n",
            "  [10. 10. 10.]]]\n",
            "(1, 3, 3)\n",
            "[[20. 20. 20.]\n",
            " [20. 20. 20.]\n",
            " [20. 20. 20.]]\n",
            "(1, 3, 3)\n",
            "[[[10. 10. 10.]\n",
            "  [20. 20. 20.]]\n",
            "\n",
            " [[10. 10. 10.]\n",
            "  [20. 20. 20.]]\n",
            "\n",
            " [[10. 10. 10.]\n",
            "  [20. 20. 20.]]]\n",
            "(3, 2, 3)\n",
            "\n",
            "tf.Tensor(\n",
            "[[10. 10. 10.]\n",
            " [10. 10. 10.]\n",
            " [10. 10. 10.]], shape=(3, 3), dtype=float32)\n",
            "(3, 3)\n",
            "(1, 3, 3)\n",
            "tf.Tensor(\n",
            "[[20. 20. 20.]\n",
            " [20. 20. 20.]\n",
            " [20. 20. 20.]], shape=(3, 3), dtype=float32)\n",
            "(3, 3)\n",
            "(1, 3, 3)\n",
            "(3, 2, 3)\n",
            "\n",
            "tensor([[[10, 10, 10],\n",
            "         [10, 10, 10],\n",
            "         [10, 10, 10]]], dtype=torch.int32)\n",
            "torch.Size([1, 3, 3])\n",
            "tensor([[20, 20, 20],\n",
            "        [20, 20, 20],\n",
            "        [20, 20, 20]], dtype=torch.int32)\n",
            "torch.Size([1, 3, 3])\n",
            "tensor([[[10, 10, 10],\n",
            "         [20, 20, 20]],\n",
            "\n",
            "        [[10, 10, 10],\n",
            "         [20, 20, 20]],\n",
            "\n",
            "        [[10, 10, 10],\n",
            "         [20, 20, 20]]], dtype=torch.int32)\n"
          ],
          "name": "stdout"
        },
        {
          "output_type": "execute_result",
          "data": {
            "text/plain": [
              "torch.Size([3, 2, 3])"
            ]
          },
          "metadata": {
            "tags": []
          },
          "execution_count": 30
        }
      ]
    },
    {
      "cell_type": "markdown",
      "metadata": {
        "id": "iynv_oEKcg6L",
        "colab_type": "text"
      },
      "source": [
        "# MAX and ARGMAX"
      ]
    },
    {
      "cell_type": "markdown",
      "metadata": {
        "id": "NlN5JucbxXXG",
        "colab_type": "text"
      },
      "source": [
        "<img src=\"https://cdn-images-1.medium.com/max/800/1*C4zaaqb3a1R08uj23llLhw.png\">"
      ]
    },
    {
      "cell_type": "markdown",
      "metadata": {
        "id": "MAvstbsu3rqM",
        "colab_type": "text"
      },
      "source": [
        "<img src=\"https://cdn-images-1.medium.com/max/800/1*fzoRQsZAq7SUp4wLFINB8g.png\">\n",
        "<img src=\"https://cdn-images-1.medium.com/max/1200/1*DbXyWegn3-sxnAeGQG-Azw.png\">\n",
        "<img src=\"https://cdn-images-1.medium.com/max/800/1*1DPeLiVtR95ziG3O4A_IUQ.png\">"
      ]
    },
    {
      "cell_type": "code",
      "metadata": {
        "id": "DS9ZPsNochLM",
        "colab_type": "code",
        "colab": {
          "base_uri": "https://localhost:8080/",
          "height": 1000
        },
        "outputId": "943cfaa7-13ac-4170-904f-a18a9f147cc2"
      },
      "source": [
        "# Numpy\n",
        "a = np.array([[5,10,15],\n",
        "               [20,25,30]])\n",
        "b = np.array([[6,69,35],\n",
        "              [70,10,82]])\n",
        "c = np.array([[25,45,48],\n",
        "             [4,100,89]])\n",
        "print(a)\n",
        "final = np.zeros((3,2,3))\n",
        "print(final.shape)\n",
        "final[0, :, :] = a\n",
        "final[1, :, :] = b\n",
        "final[2, :, :] = c\n",
        "print(final)\n",
        "print(\"Overall flattened max\", final.max())\n",
        "print(\"max across Columns\",final.max(axis=0)) \n",
        "print(\"max across Rows\",final.max(axis=1))\n",
        "print()\n",
        "print(\"Index of max value across the flattened max\", final.argmax())\n",
        "print(\"Index of max value across Columns\",final.argmax(axis=0)) \n",
        "print(\"Index of max value across Rows\",final.argmax(axis=1)) \n",
        "\n",
        "# Tensorflow\n",
        "final = tf.constant([[[5,10,15],\n",
        "                  [20,25,30]],\n",
        "                 [[6,69,35],\n",
        "                  [70,10,82]],\n",
        "                 [[25,45,48],\n",
        "                  [4,100,89]]])\n",
        "print(final)\n",
        "\n",
        "print(\"Overall flattened max\", tf.math.reduce_max(final))\n",
        "print(\"max across Columns\",tf.math.reduce_max(final,axis=0)) \n",
        "print(\"max across Rows\",tf.math.reduce_max(final, axis=1))\n",
        "print()\n",
        "print(\"Index of max value across the flattened max\", tf.math.argmax(final))\n",
        "print(\"Index of max value across Columns\",tf.math.argmax(final, axis=0)) \n",
        "print(\"Index of max value across Rows\",tf.math.argmax(final, axis=1)) \n",
        "\n",
        "# Torch\n",
        "final = torch.tensor([[[5,10,15],\n",
        "                       [20,25,30]],\n",
        "                      [[6,69,35],\n",
        "                       [70,10,82]],\n",
        "                      [[25,45,48],\n",
        "                        [4,100,89]]])\n",
        "print(final)\n",
        "\n",
        "print(\"Overall flattened max\", torch.max(final))\n",
        "print(\"max across Columns\",torch.max(final,axis=0)) \n",
        "print(\"max across Rows\",torch.max(final, axis=1))\n",
        "print()\n",
        "print(\"Index of max value across the flattened max\", torch.argmax(final))\n",
        "print(\"Index of max value across Columns\",torch.argmax(final, axis=0)) \n",
        "print(\"Index of max value across Rows\",torch.argmax(final, axis=1)) \n"
      ],
      "execution_count": 91,
      "outputs": [
        {
          "output_type": "stream",
          "text": [
            "[[ 5 10 15]\n",
            " [20 25 30]]\n",
            "(3, 2, 3)\n",
            "[[[  5.  10.  15.]\n",
            "  [ 20.  25.  30.]]\n",
            "\n",
            " [[  6.  69.  35.]\n",
            "  [ 70.  10.  82.]]\n",
            "\n",
            " [[ 25.  45.  48.]\n",
            "  [  4. 100.  89.]]]\n",
            "Overall flattened max 100.0\n",
            "max across Columns [[ 25.  69.  48.]\n",
            " [ 70. 100.  89.]]\n",
            "max across Rows [[ 20.  25.  30.]\n",
            " [ 70.  69.  82.]\n",
            " [ 25. 100.  89.]]\n",
            "\n",
            "Index of max value across the flattened max 16\n",
            "Index of max value across Columns [[2 1 2]\n",
            " [1 2 2]]\n",
            "Index of max value across Rows [[1 1 1]\n",
            " [1 0 1]\n",
            " [0 1 1]]\n",
            "tf.Tensor(\n",
            "[[[  5  10  15]\n",
            "  [ 20  25  30]]\n",
            "\n",
            " [[  6  69  35]\n",
            "  [ 70  10  82]]\n",
            "\n",
            " [[ 25  45  48]\n",
            "  [  4 100  89]]], shape=(3, 2, 3), dtype=int32)\n",
            "Overall flattened max tf.Tensor(100, shape=(), dtype=int32)\n",
            "max across Columns tf.Tensor(\n",
            "[[ 25  69  48]\n",
            " [ 70 100  89]], shape=(2, 3), dtype=int32)\n",
            "max across Rows tf.Tensor(\n",
            "[[ 20  25  30]\n",
            " [ 70  69  82]\n",
            " [ 25 100  89]], shape=(3, 3), dtype=int32)\n",
            "\n",
            "Index of max value across the flattened max tf.Tensor(\n",
            "[[2 1 2]\n",
            " [1 2 2]], shape=(2, 3), dtype=int64)\n",
            "Index of max value across Columns tf.Tensor(\n",
            "[[2 1 2]\n",
            " [1 2 2]], shape=(2, 3), dtype=int64)\n",
            "Index of max value across Rows tf.Tensor(\n",
            "[[1 1 1]\n",
            " [1 0 1]\n",
            " [0 1 1]], shape=(3, 3), dtype=int64)\n",
            "tensor([[[  5,  10,  15],\n",
            "         [ 20,  25,  30]],\n",
            "\n",
            "        [[  6,  69,  35],\n",
            "         [ 70,  10,  82]],\n",
            "\n",
            "        [[ 25,  45,  48],\n",
            "         [  4, 100,  89]]])\n",
            "Overall flattened max tensor(100)\n",
            "max across Columns torch.return_types.max(\n",
            "values=tensor([[ 25,  69,  48],\n",
            "        [ 70, 100,  89]]),\n",
            "indices=tensor([[2, 1, 2],\n",
            "        [1, 2, 2]]))\n",
            "max across Rows torch.return_types.max(\n",
            "values=tensor([[ 20,  25,  30],\n",
            "        [ 70,  69,  82],\n",
            "        [ 25, 100,  89]]),\n",
            "indices=tensor([[1, 1, 1],\n",
            "        [1, 0, 1],\n",
            "        [0, 1, 1]]))\n",
            "\n",
            "Index of max value across the flattened max tensor(16)\n",
            "Index of max value across Columns tensor([[2, 1, 2],\n",
            "        [1, 2, 2]])\n",
            "Index of max value across Rows tensor([[1, 1, 1],\n",
            "        [1, 0, 1],\n",
            "        [0, 1, 1]])\n"
          ],
          "name": "stdout"
        }
      ]
    },
    {
      "cell_type": "code",
      "metadata": {
        "id": "5zeWjKQ6cOmE",
        "colab_type": "code",
        "colab": {}
      },
      "source": [
        ""
      ],
      "execution_count": null,
      "outputs": []
    }
  ]
}